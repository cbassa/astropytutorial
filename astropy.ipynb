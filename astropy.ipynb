{
 "cells": [
  {
   "cell_type": "markdown",
   "metadata": {},
   "source": [
    "# Notebook basics"
   ]
  },
  {
   "cell_type": "markdown",
   "metadata": {},
   "source": [
    "If you highlight a code cell, you can press **Shift-Enter** to evaluate it. If you press **Alt-Enter**, the cell will evaluate and a new cell is inserted below it."
   ]
  },
  {
   "cell_type": "markdown",
   "metadata": {},
   "source": [
    "Navigation in Jupyter notebooks can be tricky. If you are in *command mode* (not editing a cell), lots of keyboard shortcuts are active, like \"`j`\" and \"`k`\" for scrolling, \"`a`\" for inserting a cell, or \"`dd`\" for deleting one (these should be familiar if you know `vi`). If you want to type in a cell, make sure to be in *edit mode* by checking you see a blinking cursor. \n",
    "\n",
    "  * To go to edit mode, press Enter or double click a cell.\n",
    "  * To go back to command mode, press Esc or single click another cell."
   ]
  },
  {
   "cell_type": "markdown",
   "metadata": {},
   "source": [
    "<a id=\"toc\"></a>"
   ]
  },
  {
   "cell_type": "markdown",
   "metadata": {},
   "source": [
    "# Table of contents"
   ]
  },
  {
   "cell_type": "markdown",
   "metadata": {},
   "source": [
    "* [Numpy](#numpy)\n",
    "* [Plotting](#matplotlib)\n",
    "* [Units](#units)\n",
    "* [Sky coordinates](#skycoord)\n",
    "* [Virtual Observatory (pyvo)](#pyvo)"
   ]
  },
  {
   "cell_type": "markdown",
   "metadata": {},
   "source": [
    "<a id=\"numpy\"></a>"
   ]
  },
  {
   "cell_type": "markdown",
   "metadata": {},
   "source": [
    "# Numpy and speed"
   ]
  },
  {
   "cell_type": "markdown",
   "metadata": {},
   "source": [
    "([back to table of contents](#toc))"
   ]
  },
  {
   "cell_type": "code",
   "execution_count": null,
   "metadata": {},
   "outputs": [],
   "source": [
    "import numpy as np"
   ]
  },
  {
   "cell_type": "markdown",
   "metadata": {},
   "source": [
    "Let's create a huge-ish numpy array with some numbers:"
   ]
  },
  {
   "cell_type": "code",
   "execution_count": 2,
   "metadata": {},
   "outputs": [],
   "source": [
    "x = np.linspace(0, 1, 1000)"
   ]
  },
  {
   "cell_type": "code",
   "execution_count": 4,
   "metadata": {},
   "outputs": [
    {
     "name": "stdout",
     "output_type": "stream",
     "text": [
      "7.33 µs ± 590 ns per loop (mean ± std. dev. of 7 runs, 100000 loops each)\n"
     ]
    }
   ],
   "source": [
    "%%timeit\n",
    "y = np.sin(x)"
   ]
  },
  {
   "cell_type": "markdown",
   "metadata": {},
   "source": [
    "(The `%%timeit`` magic command runs the command a few times; for slower commands you may want to use just `%time` so it will only once.)"
   ]
  },
  {
   "cell_type": "code",
   "execution_count": 5,
   "metadata": {},
   "outputs": [
    {
     "name": "stdout",
     "output_type": "stream",
     "text": [
      "1.51 ms ± 95.2 µs per loop (mean ± std. dev. of 7 runs, 1000 loops each)\n"
     ]
    }
   ],
   "source": [
    "%%timeit\n",
    "y = np.zeros_like(x)\n",
    "for i in range(len(x)):\n",
    "    y[i] = np.sin(x[i])"
   ]
  },
  {
   "cell_type": "markdown",
   "metadata": {},
   "source": [
    "You should see that the loop version is more than a factor 100 slower. This is because python brings quite an overhead in converting types. In the numpy version, the actual loop is done in C, and thus very efficient."
   ]
  },
  {
   "cell_type": "markdown",
   "metadata": {},
   "source": [
    "### Broadcasting rules\n",
    "\n",
    "To avoid loops in python, it's useful to know the numpy broadcasting rules. Adding `np.array`s of different shapes can sometimes work. Let's first play a bit:"
   ]
  },
  {
   "cell_type": "code",
   "execution_count": 6,
   "metadata": {},
   "outputs": [],
   "source": [
    "vec = np.ones((5))"
   ]
  },
  {
   "cell_type": "code",
   "execution_count": 7,
   "metadata": {},
   "outputs": [
    {
     "data": {
      "text/plain": [
       "(5,)"
      ]
     },
     "execution_count": 7,
     "metadata": {},
     "output_type": "execute_result"
    }
   ],
   "source": [
    "vec.shape"
   ]
  },
  {
   "cell_type": "code",
   "execution_count": 8,
   "metadata": {},
   "outputs": [],
   "source": [
    "mat = np.ones((5,5))"
   ]
  },
  {
   "cell_type": "code",
   "execution_count": 9,
   "metadata": {},
   "outputs": [
    {
     "data": {
      "text/plain": [
       "(5, 5)"
      ]
     },
     "execution_count": 9,
     "metadata": {},
     "output_type": "execute_result"
    }
   ],
   "source": [
    "mat.shape"
   ]
  },
  {
   "cell_type": "markdown",
   "metadata": {},
   "source": [
    "**Question**: will this work? What would the answer be?"
   ]
  },
  {
   "cell_type": "code",
   "execution_count": 10,
   "metadata": {},
   "outputs": [
    {
     "data": {
      "text/plain": [
       "array([[2., 2., 2., 2., 2.],\n",
       "       [2., 2., 2., 2., 2.],\n",
       "       [2., 2., 2., 2., 2.],\n",
       "       [2., 2., 2., 2., 2.],\n",
       "       [2., 2., 2., 2., 2.]])"
      ]
     },
     "execution_count": 10,
     "metadata": {},
     "output_type": "execute_result"
    }
   ],
   "source": [
    "vec + mat"
   ]
  },
  {
   "cell_type": "markdown",
   "metadata": {},
   "source": [
    " * NumPy compares the shapes element-wise, starting with the trailing dimension\n",
    " * Two dimensions are compatible if they are equal or one of them is 1\n",
    " * Raises a ValueError: frames are not aligned if the shapes are incompatible\n",
    " * The size of a successfully broadcasted array is the maximum size along each dimension of the input arrays"
   ]
  },
  {
   "cell_type": "markdown",
   "metadata": {},
   "source": [
    "**Exercise**: Adjust the example above to show the first two broadcasting rules."
   ]
  },
  {
   "cell_type": "markdown",
   "metadata": {},
   "source": [
    "As an illustration, let's read some LOFAR antenna positions. For reference, I did this with the following command which will only work if you have python-casacore installed:\n",
    "```python\n",
    "import casacore.tables as pt\n",
    "positions = pt.taql(\"SELECT POSITION FROM ~/small.MS::ANTENNA\").getcol(\"POSITION\")\n",
    "```\n",
    "And for more reference, the following would have done the same:\n",
    "```python\n",
    "from lofarantpos.db import LofarAntennaDatabase\n",
    "db = LofarAntennaDatabase()\n",
    "positions = np.array(list(db.phase_centres.values()))\n",
    "```"
   ]
  },
  {
   "cell_type": "code",
   "execution_count": 11,
   "metadata": {},
   "outputs": [],
   "source": [
    "positions = np.array([[3826896.235,460979.455,5064658.203],[3826979.384,460897.597,5064603.189],[3826600.961,460953.402,5064881.136],[3826565.594,460958.11,5064907.258],[3826471.348,461000.138,5064974.201],[3826517.812,461035.258,5064936.15],[3826585.626,460865.844,5064900.561],[3826579.486,460917.48,5064900.502],[3826701.16,460989.25,5064802.685],[3826631.194,461021.815,5064852.259],[3826653.783,461136.44,5064824.943],[3826612.499,461080.298,5064861.006],[3826478.715,461083.72,5064961.117],[3826538.021,461169.731,5064908.827],[3826637.421,461227.345,5064829.134],[3826648.961,461354.241,5064809.003],[3826405.095,461507.46,5064978.083],[3826499.783,461552.498,5064902.938],[3826463.502,460533.094,5065022.614],[3826368.813,460488.057,5065097.759],[3827218.193,461403.898,5064378.79],[3827123.504,461358.861,5064453.935],[3826418.227,461805.837,5064941.199],[3826335.078,461887.696,5064996.213],[3825573.134,461324.607,5065619.039],[3825656.283,461242.749,5065564.025],[3826041.577,460323.374,5065357.614],[3825958.428,460405.233,5065412.628],[3826383.037,460279.343,5065105.85],[3826477.725,460324.381,5065030.705],[3826864.262,460451.924,5064730.006],[3826947.411,460370.066,5064674.992],[3825899.977,461698.906,5065339.205],[3825805.288,461653.869,5065414.35],[3826331.59,462759.074,5064919.62],[3826248.441,462840.933,5064974.634],[3826679.281,461855.243,5064741.38],[3826690.821,461982.139,5064721.249],[3827442.564,461050.814,5064242.391],[3827431.025,460923.919,5064262.521],[3827973.226,459728.624,5063975.3],[3827890.077,459810.483,5064030.313],[3826795.752,460158.894,5064808.929],[3826784.211,460031.993,5064829.062],[3825568.82,460647.62,5065683.028],[3825663.508,460692.658,5065607.883],[3829205.598,469142.533,5062181.002],[3831479.67,463487.529,5060989.903],[3847753.31,466962.809,5048397.244],[3828732.721,454692.421,5063850.334],[3829771.249,452761.702,5063243.181],[3837964.52,449627.261,5057357.585],[3845376.29,413616.564,5054796.341],[3818424.939,452020.269,5071817.644],[3811649.455,453459.894,5076728.952],[3824812.621,426130.33,5069251.754],[3824138.566,459476.972,5066858.578],[3797136.484,463114.447,5086651.286],[3783537.525,450130.064,5097866.146]])"
   ]
  },
  {
   "cell_type": "code",
   "execution_count": 12,
   "metadata": {},
   "outputs": [
    {
     "data": {
      "text/plain": [
       "(59, 3)"
      ]
     },
     "execution_count": 12,
     "metadata": {},
     "output_type": "execute_result"
    }
   ],
   "source": [
    "positions.shape"
   ]
  },
  {
   "cell_type": "markdown",
   "metadata": {},
   "source": [
    "The second broadcasting rule, that uses the fact whether a dimension is 1, can be used to your advantage. Sometimes it's necessary to add a dimension to an existing array to make the broadcasting rules work for you.\n",
    "It's possible to add a dummy axis by using `np.newaxis` in indexing."
   ]
  },
  {
   "cell_type": "code",
   "execution_count": 13,
   "metadata": {},
   "outputs": [
    {
     "data": {
      "text/plain": [
       "(1, 59, 3)"
      ]
     },
     "execution_count": 13,
     "metadata": {},
     "output_type": "execute_result"
    }
   ],
   "source": [
    "positions[np.newaxis, :, :].shape"
   ]
  },
  {
   "cell_type": "markdown",
   "metadata": {},
   "source": [
    "**Exercise**: use the `-` operator on `positions` to get the vectors between all pairs of LOFAR stations. This should be an array of shape (59, 59, 3). If you want, use `np.linalg.norm(..., axis=2)` on that to get the length of all baselines."
   ]
  },
  {
   "cell_type": "code",
   "execution_count": 24,
   "metadata": {},
   "outputs": [
    {
     "name": "stdout",
     "output_type": "stream",
     "text": [
      "168 µs ± 8.72 µs per loop (mean ± std. dev. of 7 runs, 10000 loops each)\n"
     ]
    }
   ],
   "source": [
    "%%timeit\n",
    "np.linalg.norm(positions[np.newaxis, :, :] - positions[:, np.newaxis, :], axis=2);"
   ]
  },
  {
   "cell_type": "markdown",
   "metadata": {},
   "source": [
    "**Exercise**: implement this with a loop and check how much slower it is."
   ]
  },
  {
   "cell_type": "code",
   "execution_count": 20,
   "metadata": {},
   "outputs": [],
   "source": [
    "dist = np.zeros((len(positions), len(positions)), dtype=np.float)"
   ]
  },
  {
   "cell_type": "code",
   "execution_count": 25,
   "metadata": {},
   "outputs": [
    {
     "name": "stdout",
     "output_type": "stream",
     "text": [
      "17.3 ms ± 315 µs per loop (mean ± std. dev. of 7 runs, 100 loops each)\n"
     ]
    }
   ],
   "source": [
    "%%timeit\n",
    "for ant1 in range(len(positions)):\n",
    "    for ant2 in range(len(positions)):\n",
    "        dist[ant1, ant2] = np.linalg.norm(positions[ant1] - positions[ant2])"
   ]
  },
  {
   "cell_type": "markdown",
   "metadata": {},
   "source": [
    "<a id=\"matplotlib\"></a>"
   ]
  },
  {
   "cell_type": "markdown",
   "metadata": {},
   "source": [
    "# Proper plotting (no pylab, use fig, ax, subplots)"
   ]
  },
  {
   "cell_type": "markdown",
   "metadata": {},
   "source": [
    "([back to table of contents](#toc))"
   ]
  },
  {
   "cell_type": "code",
   "execution_count": 26,
   "metadata": {},
   "outputs": [],
   "source": [
    "import matplotlib.pyplot as plt\n",
    "%matplotlib inline"
   ]
  },
  {
   "cell_type": "markdown",
   "metadata": {},
   "source": [
    "The `%matplotlib inline` sets up `matplotlib` to put the output as PNG into the notebook. To make it more interactive, use `%matplotlib notebook` to make javascript-based plots that you can interact with in your browser. If you want to know, you can use `%matplotlib --list` to see the options. Or if you forget this, remember `?%matplotlib`."
   ]
  },
  {
   "cell_type": "markdown",
   "metadata": {},
   "source": [
    "From now on, please never use `from pylab import *` anymore, as [recommended](https://matplotlib.org/faq/usage_faq.html#matplotlib-pyplot-and-pylab-how-are-they-related) by its authors."
   ]
  },
  {
   "cell_type": "markdown",
   "metadata": {},
   "source": [
    "Matplotlib has [two ways](https://matplotlib.org/faq/usage_faq.html#coding-styles) to make plots. The MATLAB-like way is to use `plt.plot(np.sin(np.linspace(0,5,100)))`. We prefer the object-oriented way because it's more pythonic and shows a bit clearer what's going on:"
   ]
  },
  {
   "cell_type": "code",
   "execution_count": 27,
   "metadata": {},
   "outputs": [
    {
     "data": {
      "image/png": "[encoded data removed]",
      "text/plain": [
       "<Figure size 504x216 with 1 Axes>"
      ]
     },
     "metadata": {},
     "output_type": "display_data"
    }
   ],
   "source": [
    "fig, ax = plt.subplots(figsize=(7,3));\n",
    "ax.set_xlim([0,0.8])\n",
    "ax.plot(np.linspace(0,1,100), np.sin(5*np.linspace(0,1,100)));\n",
    "ax.set_title(\"Just a sine\");"
   ]
  },
  {
   "cell_type": "code",
   "execution_count": 28,
   "metadata": {},
   "outputs": [
    {
     "data": {
      "image/png": "[encoded data removed]",
      "text/plain": [
       "<Figure size 432x144 with 2 Axes>"
      ]
     },
     "metadata": {},
     "output_type": "display_data"
    }
   ],
   "source": [
    "fig, (ax1, ax2) = plt.subplots(1, 2, figsize=(6,2));\n",
    "ax1.plot(np.sin(np.linspace(0,5,100)));\n",
    "ax2.plot(np.cosh(np.linspace(0,5,100)));"
   ]
  },
  {
   "cell_type": "markdown",
   "metadata": {},
   "source": [
    "<a id=\"units\"></a>"
   ]
  },
  {
   "cell_type": "markdown",
   "metadata": {},
   "source": [
    "# Units and quantities"
   ]
  },
  {
   "cell_type": "markdown",
   "metadata": {},
   "source": [
    "([back to table of contents](#toc))"
   ]
  },
  {
   "cell_type": "markdown",
   "metadata": {},
   "source": [
    "Astropy has built-in support for [units](http://docs.astropy.org/en/stable/units/), and converting between them. Also, the `astropy.constants` holds useful constants, which of course usually have a unit."
   ]
  },
  {
   "cell_type": "code",
   "execution_count": 29,
   "metadata": {},
   "outputs": [],
   "source": [
    "import astropy.units as u"
   ]
  },
  {
   "cell_type": "code",
   "execution_count": 30,
   "metadata": {},
   "outputs": [],
   "source": [
    "from astropy.constants import c as speed_of_light\n",
    "from astropy.constants import m_e as electron_mass"
   ]
  },
  {
   "cell_type": "code",
   "execution_count": 31,
   "metadata": {},
   "outputs": [
    {
     "data": {
      "text/latex": [
       "$9.1093836 \\times 10^{-31} \\; \\mathrm{kg}$"
      ],
      "text/plain": [
       "<<class 'astropy.constants.codata2014.CODATA2014'> name='Electron mass' value=9.10938356e-31 uncertainty=1.1e-38 unit='kg' reference='CODATA 2014'>"
      ]
     },
     "execution_count": 31,
     "metadata": {},
     "output_type": "execute_result"
    }
   ],
   "source": [
    "electron_mass"
   ]
  },
  {
   "cell_type": "markdown",
   "metadata": {},
   "source": [
    "This thing is a `Quantity`, which has a unit and a value."
   ]
  },
  {
   "cell_type": "code",
   "execution_count": 32,
   "metadata": {},
   "outputs": [
    {
     "data": {
      "text/plain": [
       "True"
      ]
     },
     "execution_count": 32,
     "metadata": {},
     "output_type": "execute_result"
    }
   ],
   "source": [
    "isinstance(electron_mass, u.quantity.Quantity)"
   ]
  },
  {
   "cell_type": "code",
   "execution_count": 33,
   "metadata": {},
   "outputs": [
    {
     "data": {
      "text/plain": [
       "9.10938356e-31"
      ]
     },
     "execution_count": 33,
     "metadata": {},
     "output_type": "execute_result"
    }
   ],
   "source": [
    "electron_mass.value"
   ]
  },
  {
   "cell_type": "code",
   "execution_count": 34,
   "metadata": {},
   "outputs": [
    {
     "data": {
      "text/latex": [
       "$\\mathrm{kg}$"
      ],
      "text/plain": [
       "Unit(\"kg\")"
      ]
     },
     "execution_count": 34,
     "metadata": {},
     "output_type": "execute_result"
    }
   ],
   "source": [
    "electron_mass.unit"
   ]
  },
  {
   "cell_type": "markdown",
   "metadata": {},
   "source": [
    "Declaring your own quantity is done like this:"
   ]
  },
  {
   "cell_type": "code",
   "execution_count": 35,
   "metadata": {},
   "outputs": [],
   "source": [
    "tammo_mass = 78 * u.kg"
   ]
  },
  {
   "cell_type": "markdown",
   "metadata": {},
   "source": [
    "**Exercise**: Type `u.` and use tab-completion to find the unit for astronomical unit."
   ]
  },
  {
   "cell_type": "markdown",
   "metadata": {},
   "source": [
    "Of course it's possible to convert to other units:"
   ]
  },
  {
   "cell_type": "code",
   "execution_count": 36,
   "metadata": {},
   "outputs": [
    {
     "data": {
      "text/latex": [
       "$1.0792528 \\times 10^{9} \\; \\mathrm{\\frac{km}{h}}$"
      ],
      "text/plain": [
       "<Quantity 1.07925285e+09 km / h>"
      ]
     },
     "execution_count": 36,
     "metadata": {},
     "output_type": "execute_result"
    }
   ],
   "source": [
    "speed_of_light.to(u.km / u.h)"
   ]
  },
  {
   "cell_type": "markdown",
   "metadata": {},
   "source": [
    "A useful abbreviation is the attribute `.si` which gives a quantity in SI-units."
   ]
  },
  {
   "cell_type": "markdown",
   "metadata": {},
   "source": [
    "**Exercise**: Use `astropy.units` to compute the light travel time from the Sun to Earth in minutes."
   ]
  },
  {
   "cell_type": "code",
   "execution_count": 37,
   "metadata": {},
   "outputs": [
    {
     "data": {
      "text/latex": [
       "$8.3167464 \\; \\mathrm{min}$"
      ],
      "text/plain": [
       "<Quantity 8.3167464 min>"
      ]
     },
     "execution_count": 37,
     "metadata": {},
     "output_type": "execute_result"
    }
   ],
   "source": [
    "(1 * u.AU / speed_of_light).to(u.min)"
   ]
  },
  {
   "cell_type": "markdown",
   "metadata": {},
   "source": [
    "**Exercise**: how many atomic masses does your favorite tutor weigh? (Atomic mass: `u.u`)"
   ]
  },
  {
   "cell_type": "code",
   "execution_count": 38,
   "metadata": {},
   "outputs": [
    {
     "data": {
      "text/latex": [
       "$4.6972699 \\times 10^{28} \\; \\mathrm{u}$"
      ],
      "text/plain": [
       "<Quantity 4.69726987e+28 u>"
      ]
     },
     "execution_count": 38,
     "metadata": {},
     "output_type": "execute_result"
    }
   ],
   "source": [
    "tammo_mass.to(u.u)"
   ]
  },
  {
   "cell_type": "markdown",
   "metadata": {},
   "source": [
    "**Exercise**: convert $\\mathrm{50\\,\\mathrm{Jansky}}$ to $\\mathrm{erg}/\\mathrm{cm}^2$"
   ]
  },
  {
   "cell_type": "code",
   "execution_count": 50,
   "metadata": {},
   "outputs": [
    {
     "data": {
      "text/latex": [
       "$5 \\times 10^{-22} \\; \\mathrm{\\frac{erg}{cm^{2}}}$"
      ],
      "text/plain": [
       "<Quantity 5.e-22 erg / cm2>"
      ]
     },
     "execution_count": 50,
     "metadata": {},
     "output_type": "execute_result"
    }
   ],
   "source": [
    "(50*u.Jy).to(u.erg/u.cm**2)"
   ]
  },
  {
   "cell_type": "markdown",
   "metadata": {},
   "source": [
    "### Equivalencies"
   ]
  },
  {
   "cell_type": "markdown",
   "metadata": {},
   "source": [
    "Some units are not convertible by default. An example is `MHz` and `cm`, although we all know how to convert those.\n",
    "\n",
    "Astropy does not, by default:"
   ]
  },
  {
   "cell_type": "code",
   "execution_count": 51,
   "metadata": {
    "scrolled": true
   },
   "outputs": [
    {
     "ename": "UnitConversionError",
     "evalue": "'cm' (length) and 'MHz' (frequency) are not convertible",
     "output_type": "error",
     "traceback": [
      "\u001b[0;31m---------------------------------------------------------------------------\u001b[0m",
      "\u001b[0;31mUnitConversionError\u001b[0m                       Traceback (most recent call last)",
      "\u001b[0;32m<ipython-input-51-f4295464742e>\u001b[0m in \u001b[0;36m<module>\u001b[0;34m()\u001b[0m\n\u001b[0;32m----> 1\u001b[0;31m \u001b[0;34m(\u001b[0m\u001b[0;36m21.106\u001b[0m\u001b[0;34m*\u001b[0m\u001b[0mu\u001b[0m\u001b[0;34m.\u001b[0m\u001b[0mcm\u001b[0m\u001b[0;34m)\u001b[0m\u001b[0;34m.\u001b[0m\u001b[0mto\u001b[0m\u001b[0;34m(\u001b[0m\u001b[0mu\u001b[0m\u001b[0;34m.\u001b[0m\u001b[0mMHz\u001b[0m\u001b[0;34m)\u001b[0m\u001b[0;34m\u001b[0m\u001b[0;34m\u001b[0m\u001b[0m\n\u001b[0m",
      "\u001b[0;32m/anaconda/envs/school18/lib/python3.6/site-packages/astropy/units/quantity.py\u001b[0m in \u001b[0;36mto\u001b[0;34m(self, unit, equivalencies)\u001b[0m\n\u001b[1;32m    845\u001b[0m         \u001b[0;31m# and don't want to slow down this method (esp. the scalar case).\u001b[0m\u001b[0;34m\u001b[0m\u001b[0;34m\u001b[0m\u001b[0;34m\u001b[0m\u001b[0m\n\u001b[1;32m    846\u001b[0m         \u001b[0munit\u001b[0m \u001b[0;34m=\u001b[0m \u001b[0mUnit\u001b[0m\u001b[0;34m(\u001b[0m\u001b[0munit\u001b[0m\u001b[0;34m)\u001b[0m\u001b[0;34m\u001b[0m\u001b[0;34m\u001b[0m\u001b[0m\n\u001b[0;32m--> 847\u001b[0;31m         \u001b[0;32mreturn\u001b[0m \u001b[0mself\u001b[0m\u001b[0;34m.\u001b[0m\u001b[0m_new_view\u001b[0m\u001b[0;34m(\u001b[0m\u001b[0mself\u001b[0m\u001b[0;34m.\u001b[0m\u001b[0m_to_value\u001b[0m\u001b[0;34m(\u001b[0m\u001b[0munit\u001b[0m\u001b[0;34m,\u001b[0m \u001b[0mequivalencies\u001b[0m\u001b[0;34m)\u001b[0m\u001b[0;34m,\u001b[0m \u001b[0munit\u001b[0m\u001b[0;34m)\u001b[0m\u001b[0;34m\u001b[0m\u001b[0;34m\u001b[0m\u001b[0m\n\u001b[0m\u001b[1;32m    848\u001b[0m \u001b[0;34m\u001b[0m\u001b[0m\n\u001b[1;32m    849\u001b[0m     \u001b[0;32mdef\u001b[0m \u001b[0mto_value\u001b[0m\u001b[0;34m(\u001b[0m\u001b[0mself\u001b[0m\u001b[0;34m,\u001b[0m \u001b[0munit\u001b[0m\u001b[0;34m=\u001b[0m\u001b[0;32mNone\u001b[0m\u001b[0;34m,\u001b[0m \u001b[0mequivalencies\u001b[0m\u001b[0;34m=\u001b[0m\u001b[0;34m[\u001b[0m\u001b[0;34m]\u001b[0m\u001b[0;34m)\u001b[0m\u001b[0;34m:\u001b[0m\u001b[0;34m\u001b[0m\u001b[0;34m\u001b[0m\u001b[0m\n",
      "\u001b[0;32m/anaconda/envs/school18/lib/python3.6/site-packages/astropy/units/quantity.py\u001b[0m in \u001b[0;36m_to_value\u001b[0;34m(self, unit, equivalencies)\u001b[0m\n\u001b[1;32m    817\u001b[0m             \u001b[0mequivalencies\u001b[0m \u001b[0;34m=\u001b[0m \u001b[0mself\u001b[0m\u001b[0;34m.\u001b[0m\u001b[0m_equivalencies\u001b[0m\u001b[0;34m\u001b[0m\u001b[0;34m\u001b[0m\u001b[0m\n\u001b[1;32m    818\u001b[0m         return self.unit.to(unit, self.view(np.ndarray),\n\u001b[0;32m--> 819\u001b[0;31m                             equivalencies=equivalencies)\n\u001b[0m\u001b[1;32m    820\u001b[0m \u001b[0;34m\u001b[0m\u001b[0m\n\u001b[1;32m    821\u001b[0m     \u001b[0;32mdef\u001b[0m \u001b[0mto\u001b[0m\u001b[0;34m(\u001b[0m\u001b[0mself\u001b[0m\u001b[0;34m,\u001b[0m \u001b[0munit\u001b[0m\u001b[0;34m,\u001b[0m \u001b[0mequivalencies\u001b[0m\u001b[0;34m=\u001b[0m\u001b[0;34m[\u001b[0m\u001b[0;34m]\u001b[0m\u001b[0;34m)\u001b[0m\u001b[0;34m:\u001b[0m\u001b[0;34m\u001b[0m\u001b[0;34m\u001b[0m\u001b[0m\n",
      "\u001b[0;32m/anaconda/envs/school18/lib/python3.6/site-packages/astropy/units/core.py\u001b[0m in \u001b[0;36mto\u001b[0;34m(self, other, value, equivalencies)\u001b[0m\n\u001b[1;32m    963\u001b[0m             \u001b[0mIf\u001b[0m \u001b[0munits\u001b[0m \u001b[0mare\u001b[0m \u001b[0minconsistent\u001b[0m\u001b[0;34m\u001b[0m\u001b[0;34m\u001b[0m\u001b[0m\n\u001b[1;32m    964\u001b[0m         \"\"\"\n\u001b[0;32m--> 965\u001b[0;31m         \u001b[0;32mreturn\u001b[0m \u001b[0mself\u001b[0m\u001b[0;34m.\u001b[0m\u001b[0m_get_converter\u001b[0m\u001b[0;34m(\u001b[0m\u001b[0mother\u001b[0m\u001b[0;34m,\u001b[0m \u001b[0mequivalencies\u001b[0m\u001b[0;34m=\u001b[0m\u001b[0mequivalencies\u001b[0m\u001b[0;34m)\u001b[0m\u001b[0;34m(\u001b[0m\u001b[0mvalue\u001b[0m\u001b[0;34m)\u001b[0m\u001b[0;34m\u001b[0m\u001b[0;34m\u001b[0m\u001b[0m\n\u001b[0m\u001b[1;32m    966\u001b[0m \u001b[0;34m\u001b[0m\u001b[0m\n\u001b[1;32m    967\u001b[0m     \u001b[0;32mdef\u001b[0m \u001b[0min_units\u001b[0m\u001b[0;34m(\u001b[0m\u001b[0mself\u001b[0m\u001b[0;34m,\u001b[0m \u001b[0mother\u001b[0m\u001b[0;34m,\u001b[0m \u001b[0mvalue\u001b[0m\u001b[0;34m=\u001b[0m\u001b[0;36m1.0\u001b[0m\u001b[0;34m,\u001b[0m \u001b[0mequivalencies\u001b[0m\u001b[0;34m=\u001b[0m\u001b[0;34m[\u001b[0m\u001b[0;34m]\u001b[0m\u001b[0;34m)\u001b[0m\u001b[0;34m:\u001b[0m\u001b[0;34m\u001b[0m\u001b[0;34m\u001b[0m\u001b[0m\n",
      "\u001b[0;32m/anaconda/envs/school18/lib/python3.6/site-packages/astropy/units/core.py\u001b[0m in \u001b[0;36m_get_converter\u001b[0;34m(self, other, equivalencies)\u001b[0m\n\u001b[1;32m    897\u001b[0m                             \u001b[0;32mpass\u001b[0m\u001b[0;34m\u001b[0m\u001b[0;34m\u001b[0m\u001b[0m\n\u001b[1;32m    898\u001b[0m \u001b[0;34m\u001b[0m\u001b[0m\n\u001b[0;32m--> 899\u001b[0;31m             \u001b[0;32mraise\u001b[0m \u001b[0mexc\u001b[0m\u001b[0;34m\u001b[0m\u001b[0;34m\u001b[0m\u001b[0m\n\u001b[0m\u001b[1;32m    900\u001b[0m \u001b[0;34m\u001b[0m\u001b[0m\n\u001b[1;32m    901\u001b[0m     \u001b[0;32mdef\u001b[0m \u001b[0m_to\u001b[0m\u001b[0;34m(\u001b[0m\u001b[0mself\u001b[0m\u001b[0;34m,\u001b[0m \u001b[0mother\u001b[0m\u001b[0;34m)\u001b[0m\u001b[0;34m:\u001b[0m\u001b[0;34m\u001b[0m\u001b[0;34m\u001b[0m\u001b[0m\n",
      "\u001b[0;32m/anaconda/envs/school18/lib/python3.6/site-packages/astropy/units/core.py\u001b[0m in \u001b[0;36m_get_converter\u001b[0;34m(self, other, equivalencies)\u001b[0m\n\u001b[1;32m    883\u001b[0m         \u001b[0;32mtry\u001b[0m\u001b[0;34m:\u001b[0m\u001b[0;34m\u001b[0m\u001b[0;34m\u001b[0m\u001b[0m\n\u001b[1;32m    884\u001b[0m             return self._apply_equivalencies(\n\u001b[0;32m--> 885\u001b[0;31m                 self, other, self._normalize_equivalencies(equivalencies))\n\u001b[0m\u001b[1;32m    886\u001b[0m         \u001b[0;32mexcept\u001b[0m \u001b[0mUnitsError\u001b[0m \u001b[0;32mas\u001b[0m \u001b[0mexc\u001b[0m\u001b[0;34m:\u001b[0m\u001b[0;34m\u001b[0m\u001b[0;34m\u001b[0m\u001b[0m\n\u001b[1;32m    887\u001b[0m             \u001b[0;31m# Last hope: maybe other knows how to do it?\u001b[0m\u001b[0;34m\u001b[0m\u001b[0;34m\u001b[0m\u001b[0;34m\u001b[0m\u001b[0m\n",
      "\u001b[0;32m/anaconda/envs/school18/lib/python3.6/site-packages/astropy/units/core.py\u001b[0m in \u001b[0;36m_apply_equivalencies\u001b[0;34m(self, unit, other, equivalencies)\u001b[0m\n\u001b[1;32m    867\u001b[0m         raise UnitConversionError(\n\u001b[1;32m    868\u001b[0m             \"{0} and {1} are not convertible\".format(\n\u001b[0;32m--> 869\u001b[0;31m                 unit_str, other_str))\n\u001b[0m\u001b[1;32m    870\u001b[0m \u001b[0;34m\u001b[0m\u001b[0m\n\u001b[1;32m    871\u001b[0m     \u001b[0;32mdef\u001b[0m \u001b[0m_get_converter\u001b[0m\u001b[0;34m(\u001b[0m\u001b[0mself\u001b[0m\u001b[0;34m,\u001b[0m \u001b[0mother\u001b[0m\u001b[0;34m,\u001b[0m \u001b[0mequivalencies\u001b[0m\u001b[0;34m=\u001b[0m\u001b[0;34m[\u001b[0m\u001b[0;34m]\u001b[0m\u001b[0;34m)\u001b[0m\u001b[0;34m:\u001b[0m\u001b[0;34m\u001b[0m\u001b[0;34m\u001b[0m\u001b[0m\n",
      "\u001b[0;31mUnitConversionError\u001b[0m: 'cm' (length) and 'MHz' (frequency) are not convertible"
     ]
    }
   ],
   "source": [
    "(21.106*u.cm).to(u.MHz)"
   ]
  },
  {
   "cell_type": "markdown",
   "metadata": {},
   "source": [
    "**Exercise**: Use `speed_of_light` and unit conversion to find the frequency in `MHz` that corresponds to `21.106 cm`"
   ]
  },
  {
   "cell_type": "code",
   "execution_count": 52,
   "metadata": {},
   "outputs": [
    {
     "data": {
      "text/latex": [
       "$1420.4134 \\; \\mathrm{MHz}$"
      ],
      "text/plain": [
       "<Quantity 1420.41342746 MHz>"
      ]
     },
     "execution_count": 52,
     "metadata": {},
     "output_type": "execute_result"
    }
   ],
   "source": [
    "(speed_of_light / (21.106*u.cm)).to(u.MHz)"
   ]
  },
  {
   "cell_type": "markdown",
   "metadata": {},
   "source": [
    "With an \"equivalency\" for the function `.to()`, astropy does know how to convert these:"
   ]
  },
  {
   "cell_type": "code",
   "execution_count": 53,
   "metadata": {},
   "outputs": [
    {
     "data": {
      "text/latex": [
       "$1420.4134 \\; \\mathrm{MHz}$"
      ],
      "text/plain": [
       "<Quantity 1420.41342746 MHz>"
      ]
     },
     "execution_count": 53,
     "metadata": {},
     "output_type": "execute_result"
    }
   ],
   "source": [
    "(21.106*u.cm).to(u.MHz, equivalencies=u.spectral())"
   ]
  },
  {
   "cell_type": "markdown",
   "metadata": {},
   "source": [
    "Another useful equivalency:"
   ]
  },
  {
   "cell_type": "code",
   "execution_count": 54,
   "metadata": {},
   "outputs": [
    {
     "data": {
      "text/latex": [
       "$-125.9126 \\; \\mathrm{\\frac{km}{s}}$"
      ],
      "text/plain": [
       "<Quantity -125.9126 km / s>"
      ]
     },
     "execution_count": 54,
     "metadata": {},
     "output_type": "execute_result"
    }
   ],
   "source": [
    "(1421.01*u.MHz).to(u.km/u.s, equivalencies=u.doppler_radio(rest=21.106*u.cm))"
   ]
  },
  {
   "cell_type": "markdown",
   "metadata": {},
   "source": [
    "It is possible to enable one (only one I think..) equivalency globally.\n",
    "    "
   ]
  },
  {
   "cell_type": "code",
   "execution_count": 55,
   "metadata": {},
   "outputs": [
    {
     "data": {
      "text/plain": [
       "<astropy.units.core._UnitContext at 0x81fe62c50>"
      ]
     },
     "execution_count": 55,
     "metadata": {},
     "output_type": "execute_result"
    }
   ],
   "source": [
    "u.set_enabled_equivalencies(u.spectral())"
   ]
  },
  {
   "cell_type": "code",
   "execution_count": 56,
   "metadata": {},
   "outputs": [
    {
     "data": {
      "text/latex": [
       "$1303.4455 \\; \\mathrm{MHz}$"
      ],
      "text/plain": [
       "<Quantity 1303.44546957 MHz>"
      ]
     },
     "execution_count": 56,
     "metadata": {},
     "output_type": "execute_result"
    }
   ],
   "source": [
    "(23*u.cm).to(u.MHz)"
   ]
  },
  {
   "cell_type": "markdown",
   "metadata": {},
   "source": [
    "A more proper way to enable more equivalencies is to embed them in a `with` statement:"
   ]
  },
  {
   "cell_type": "code",
   "execution_count": 57,
   "metadata": {},
   "outputs": [
    {
     "name": "stdout",
     "output_type": "stream",
     "text": [
      "21.0972034130404 cm\n"
     ]
    }
   ],
   "source": [
    "with u.set_enabled_equivalencies(u.spectral()):\n",
    "    with u.set_enabled_equivalencies(u.doppler_radio(rest=21.106*u.cm)):\n",
    "        print((-125*u.km/u.s).to(u.cm)) # This is scary"
   ]
  },
  {
   "cell_type": "markdown",
   "metadata": {},
   "source": [
    "And another one that may be useful:"
   ]
  },
  {
   "cell_type": "code",
   "execution_count": 58,
   "metadata": {},
   "outputs": [
    {
     "data": {
      "text/latex": [
       "$3.5262951 \\; \\mathrm{K}$"
      ],
      "text/plain": [
       "<Quantity 3.52629514 K>"
      ]
     },
     "execution_count": 58,
     "metadata": {},
     "output_type": "execute_result"
    }
   ],
   "source": [
    "beam_sigma = 50*u.arcsec\n",
    "beam_area = 2*np.pi*(beam_sigma)**2\n",
    "(1*u.Jy/beam_area).to(u.K, equivalencies=u.brightness_temperature(5*u.GHz))"
   ]
  },
  {
   "cell_type": "markdown",
   "metadata": {},
   "source": [
    "Recall the Rayleigh-Jeans law: $B_{\\lambda} (T) = \\frac{2 \\cdot c \\cdot k_{\\mathrm{B}} \\cdot T}{\\lambda^4}$, where $B_{\\lambda}$ is the  spectral radiance; the power emitted per unit emitting area, per steradian, per unit wavelength, $c$  is the speed of light, $k_{\\mathrm{B}}$ is the Boltzmann constant and $T$ is the temperature in kelvins."
   ]
  },
  {
   "cell_type": "markdown",
   "metadata": {},
   "source": [
    "**Exercise**: implement the function `rayleigh_jeans(lamda, t)` that for a given wavelength and temperature, returns the spectral radiance, with appropriate units. (We'll use `lamda` here because `lambda` is a reserved word in Python.)\n",
    "\n",
    "*Hint*: use tab completion on `astropy.constants.` to find available constants."
   ]
  },
  {
   "cell_type": "code",
   "execution_count": 59,
   "metadata": {},
   "outputs": [],
   "source": [
    "from astropy.constants import k_B"
   ]
  },
  {
   "cell_type": "code",
   "execution_count": 60,
   "metadata": {},
   "outputs": [],
   "source": [
    "#@u.quantity_input(lamda=u.m, t=u.K)\n",
    "def rayleigh_jeans(lamda, t):\n",
    "    return (2 * speed_of_light * k_B * t) / lamda**4"
   ]
  },
  {
   "cell_type": "markdown",
   "metadata": {},
   "source": [
    "**Exercise**: plot this function at $T=30\\mathrm{K}$ for $\\lambda \\in (10\\mathrm{cm}, 1\\mathrm{m})$"
   ]
  },
  {
   "cell_type": "code",
   "execution_count": 61,
   "metadata": {},
   "outputs": [
    {
     "data": {
      "image/png": "[encoded data removed]",
      "text/plain": [
       "<Figure size 432x288 with 1 Axes>"
      ]
     },
     "metadata": {},
     "output_type": "display_data"
    }
   ],
   "source": [
    "fig, ax = plt.subplots();\n",
    "ax.plot(rayleigh_jeans(np.linspace(0.1, 1, 100)*u.m, 30*u.K));\n",
    "ax.set_xlabel(\"Wavelength (m)\");\n",
    "ax.set_ylabel(\"Vertical axis (unit??)\");"
   ]
  },
  {
   "cell_type": "markdown",
   "metadata": {},
   "source": [
    "Astropy has a way to add unit support to matplotlib plots:"
   ]
  },
  {
   "cell_type": "code",
   "execution_count": 62,
   "metadata": {},
   "outputs": [],
   "source": [
    "from astropy.visualization import quantity_support"
   ]
  },
  {
   "cell_type": "code",
   "execution_count": 63,
   "metadata": {},
   "outputs": [
    {
     "data": {
      "image/png": "[encoded data removed]",
      "text/plain": [
       "<Figure size 432x288 with 1 Axes>"
      ]
     },
     "metadata": {},
     "output_type": "display_data"
    }
   ],
   "source": [
    "plt.figure()\n",
    "with quantity_support():\n",
    "    plt.plot(rayleigh_jeans(np.linspace(3, 30, 100)*u.m, 30*u.K))"
   ]
  },
  {
   "cell_type": "markdown",
   "metadata": {},
   "source": [
    "It can get more fancy by using the function decorator `u.quantity_input` which understands the unit of input for your function. In this way, you can specify the arguments to your function with a different unit (e.g. `km` instead of `m`) and astropy will do the conversion for you."
   ]
  },
  {
   "cell_type": "code",
   "execution_count": 64,
   "metadata": {},
   "outputs": [],
   "source": [
    "@u.quantity_input(lamda=u.m, t=u.K)\n",
    "def rayleigh_jeans(lamda, t):\n",
    "    return (2 * speed_of_light * k_B * t) / lamda**4"
   ]
  },
  {
   "cell_type": "code",
   "execution_count": 65,
   "metadata": {},
   "outputs": [
    {
     "data": {
      "text/latex": [
       "$3.9735169 \\times 10^{-19} \\; \\mathrm{\\frac{J\\,m}{s\\,MHz^{4}}}$"
      ],
      "text/plain": [
       "<Quantity 3.97351693e-19 J m / (MHz4 s)>"
      ]
     },
     "execution_count": 65,
     "metadata": {},
     "output_type": "execute_result"
    }
   ],
   "source": [
    "rayleigh_jeans(50*u.MHz, 300*u.K)"
   ]
  },
  {
   "cell_type": "markdown",
   "metadata": {},
   "source": [
    "Note that typing `u.m` everywhere will cause some overhead, but it might save you a few days of debugging a case where you forgot which unit you used."
   ]
  },
  {
   "cell_type": "markdown",
   "metadata": {},
   "source": [
    "## Time"
   ]
  },
  {
   "cell_type": "markdown",
   "metadata": {},
   "source": [
    "Astropy has good support for times and dates. As you know, there is only one good way to format time: [ISO8601](https://xkcd.com/1179/). To convert to and from this, use `astropy.time`."
   ]
  },
  {
   "cell_type": "code",
   "execution_count": 66,
   "metadata": {},
   "outputs": [],
   "source": [
    "from astropy.time import Time"
   ]
  },
  {
   "cell_type": "code",
   "execution_count": 67,
   "metadata": {},
   "outputs": [],
   "source": [
    "t = Time(\"2019-03-13T11:30\")"
   ]
  },
  {
   "cell_type": "code",
   "execution_count": 68,
   "metadata": {},
   "outputs": [
    {
     "data": {
      "text/plain": [
       "'2019-03-13T11:30:00.000'"
      ]
     },
     "execution_count": 68,
     "metadata": {},
     "output_type": "execute_result"
    }
   ],
   "source": [
    "t.isot"
   ]
  },
  {
   "cell_type": "code",
   "execution_count": 69,
   "metadata": {},
   "outputs": [
    {
     "data": {
      "text/plain": [
       "58555.479166666664"
      ]
     },
     "execution_count": 69,
     "metadata": {},
     "output_type": "execute_result"
    }
   ],
   "source": [
    "t.mjd"
   ]
  },
  {
   "cell_type": "markdown",
   "metadata": {},
   "source": [
    "**Exercise**: How many seconds were there between `1997-01-01 00:00` UTC and `2000-01-01 00:00` UTC?"
   ]
  },
  {
   "cell_type": "code",
   "execution_count": 70,
   "metadata": {},
   "outputs": [
    {
     "data": {
      "text/latex": [
       "$94608002 \\; \\mathrm{s}$"
      ],
      "text/plain": [
       "<Quantity 94608002. s>"
      ]
     },
     "execution_count": 70,
     "metadata": {},
     "output_type": "execute_result"
    }
   ],
   "source": [
    "(Time(\"2000-01-01 00:00\") - Time(\"1997-01-01 00:00\")).to(u.s)"
   ]
  },
  {
   "cell_type": "markdown",
   "metadata": {},
   "source": [
    "**Exercise**: How many leap seconds have there been in your life?"
   ]
  },
  {
   "cell_type": "code",
   "execution_count": 71,
   "metadata": {},
   "outputs": [
    {
     "data": {
      "text/plain": [
       "18.0"
      ]
     },
     "execution_count": 71,
     "metadata": {},
     "output_type": "execute_result"
    }
   ],
   "source": [
    "(Time(\"2019-01-01\") - Time(\"1981-01-01\")).to(u.s).value%100"
   ]
  },
  {
   "cell_type": "markdown",
   "metadata": {},
   "source": [
    "## Angles"
   ]
  },
  {
   "cell_type": "markdown",
   "metadata": {},
   "source": [
    "A special case of units are angles, not unimportant in astronomy. Of course normal angles 'just work', though they're not very smart (don't take care of unwrapping):"
   ]
  },
  {
   "cell_type": "code",
   "execution_count": 72,
   "metadata": {},
   "outputs": [
    {
     "data": {
      "text/latex": [
       "$365 \\; \\mathrm{{}^{\\circ}}$"
      ],
      "text/plain": [
       "<Quantity 365. deg>"
      ]
     },
     "execution_count": 72,
     "metadata": {},
     "output_type": "execute_result"
    }
   ],
   "source": [
    "365*u.deg"
   ]
  },
  {
   "cell_type": "code",
   "execution_count": 73,
   "metadata": {},
   "outputs": [
    {
     "data": {
      "text/latex": [
       "$2.3561945 \\; \\mathrm{rad}$"
      ],
      "text/plain": [
       "<Quantity 2.35619449 rad>"
      ]
     },
     "execution_count": 73,
     "metadata": {},
     "output_type": "execute_result"
    }
   ],
   "source": [
    "(135*u.deg).to(u.rad)"
   ]
  },
  {
   "cell_type": "code",
   "execution_count": 74,
   "metadata": {},
   "outputs": [
    {
     "data": {
      "text/latex": [
       "$135 \\; \\mathrm{rad}$"
      ],
      "text/plain": [
       "<Quantity 135. rad>"
      ]
     },
     "execution_count": 74,
     "metadata": {},
     "output_type": "execute_result"
    }
   ],
   "source": [
    "np.deg2rad(135*u.rad)"
   ]
  },
  {
   "cell_type": "markdown",
   "metadata": {},
   "source": [
    "Note that what happened here is bit scary: astropy 'patched' the function `np.deg2rad` to be type-aware, and the argument got converted to degrees before it entered the function."
   ]
  },
  {
   "cell_type": "markdown",
   "metadata": {},
   "source": [
    "To input sexagesimal angles, use `Angle` to make it format nicely automatically."
   ]
  },
  {
   "cell_type": "code",
   "execution_count": 75,
   "metadata": {},
   "outputs": [],
   "source": [
    "from astropy.coordinates import Angle"
   ]
  },
  {
   "cell_type": "code",
   "execution_count": 76,
   "metadata": {},
   "outputs": [
    {
     "data": {
      "text/latex": [
       "$8^\\mathrm{h}34^\\mathrm{m}05.54^\\mathrm{s}$"
      ],
      "text/plain": [
       "<Angle 8.56820556 hourangle>"
      ]
     },
     "execution_count": 76,
     "metadata": {},
     "output_type": "execute_result"
    }
   ],
   "source": [
    "ra = Angle(\"8h34m5.54s\")\n",
    "ra"
   ]
  },
  {
   "cell_type": "code",
   "execution_count": 77,
   "metadata": {},
   "outputs": [
    {
     "data": {
      "text/latex": [
       "$-45^\\circ50{}^\\prime00{}^{\\prime\\prime}$"
      ],
      "text/plain": [
       "<Angle -45.83333333 deg>"
      ]
     },
     "execution_count": 77,
     "metadata": {},
     "output_type": "execute_result"
    }
   ],
   "source": [
    "dec = Angle(\"-45d50m0s\")\n",
    "dec"
   ]
  },
  {
   "cell_type": "code",
   "execution_count": 78,
   "metadata": {},
   "outputs": [
    {
     "data": {
      "text/plain": [
       "hms_tuple(h=8.0, m=34.0, s=5.540000000001868)"
      ]
     },
     "execution_count": 78,
     "metadata": {},
     "output_type": "execute_result"
    }
   ],
   "source": [
    "ra.hms"
   ]
  },
  {
   "cell_type": "code",
   "execution_count": 79,
   "metadata": {},
   "outputs": [
    {
     "data": {
      "text/plain": [
       "dms_tuple(d=-45.0, m=-50.0, s=-8.526512829121202e-12)"
      ]
     },
     "execution_count": 79,
     "metadata": {},
     "output_type": "execute_result"
    }
   ],
   "source": [
    "dec.dms"
   ]
  },
  {
   "cell_type": "code",
   "execution_count": 80,
   "metadata": {},
   "outputs": [
    {
     "data": {
      "text/plain": [
       "signed_dms_tuple(sign=-1.0, d=45.0, m=50.0, s=8.526512829121202e-12)"
      ]
     },
     "execution_count": 80,
     "metadata": {},
     "output_type": "execute_result"
    }
   ],
   "source": [
    "dec.signed_dms"
   ]
  },
  {
   "cell_type": "markdown",
   "metadata": {},
   "source": [
    "<a id=\"skycoord\"></a>"
   ]
  },
  {
   "cell_type": "markdown",
   "metadata": {},
   "source": [
    "# Sky coordinates"
   ]
  },
  {
   "cell_type": "markdown",
   "metadata": {},
   "source": [
    "([back to table of contents](#toc))"
   ]
  },
  {
   "cell_type": "code",
   "execution_count": 81,
   "metadata": {},
   "outputs": [],
   "source": [
    "from astropy.coordinates import SkyCoord"
   ]
  },
  {
   "cell_type": "markdown",
   "metadata": {},
   "source": [
    "Coordinates on the sky are of course `SkyCoord`s. You can make one as follows:"
   ]
  },
  {
   "cell_type": "code",
   "execution_count": 82,
   "metadata": {},
   "outputs": [],
   "source": [
    "my_obj = SkyCoord(ra=ra, dec=dec)"
   ]
  },
  {
   "cell_type": "markdown",
   "metadata": {},
   "source": [
    "The default frame is ICRS, which is about the same as J2000.\n",
    "\n",
    "Many convenience methods are available for SkyCoord. The best is for tutorials is `from_name`, which gets you an object by querying simbad."
   ]
  },
  {
   "cell_type": "code",
   "execution_count": 83,
   "metadata": {},
   "outputs": [],
   "source": [
    "polaris = SkyCoord.from_name(\"polaris\")"
   ]
  },
  {
   "cell_type": "code",
   "execution_count": 84,
   "metadata": {},
   "outputs": [
    {
     "data": {
      "text/latex": [
       "$37^\\circ57{}^\\prime16.4184{}^{\\prime\\prime}$"
      ],
      "text/plain": [
       "<Longitude 37.95456067 deg>"
      ]
     },
     "execution_count": 84,
     "metadata": {},
     "output_type": "execute_result"
    }
   ],
   "source": [
    "polaris.ra"
   ]
  },
  {
   "cell_type": "code",
   "execution_count": 85,
   "metadata": {},
   "outputs": [
    {
     "data": {
      "text/latex": [
       "$89^\\circ15{}^\\prime50.7923{}^{\\prime\\prime}$"
      ],
      "text/plain": [
       "<Latitude 89.26410897 deg>"
      ]
     },
     "execution_count": 85,
     "metadata": {},
     "output_type": "execute_result"
    }
   ],
   "source": [
    "polaris.dec"
   ]
  },
  {
   "cell_type": "code",
   "execution_count": 86,
   "metadata": {},
   "outputs": [
    {
     "data": {
      "text/latex": [
       "$135^\\circ50{}^\\prime08.7712{}^{\\prime\\prime}$"
      ],
      "text/plain": [
       "<Angle 135.83576978 deg>"
      ]
     },
     "execution_count": 86,
     "metadata": {},
     "output_type": "execute_result"
    }
   ],
   "source": [
    "polaris.separation(my_obj)"
   ]
  },
  {
   "cell_type": "code",
   "execution_count": 87,
   "metadata": {},
   "outputs": [
    {
     "data": {
      "text/plain": [
       "<SkyCoord (Galactic): (l, b) in deg\n",
       "    (123.28054967, 26.46139598)>"
      ]
     },
     "execution_count": 87,
     "metadata": {},
     "output_type": "execute_result"
    }
   ],
   "source": [
    "polaris.galactic"
   ]
  },
  {
   "cell_type": "code",
   "execution_count": 88,
   "metadata": {},
   "outputs": [],
   "source": [
    "gal_center = SkyCoord(l=0*u.deg, b=0*u.deg, frame=\"galactic\")"
   ]
  },
  {
   "cell_type": "markdown",
   "metadata": {},
   "source": [
    "**Exercise**: how many radians is the galactic center from M31?"
   ]
  },
  {
   "cell_type": "code",
   "execution_count": 89,
   "metadata": {},
   "outputs": [
    {
     "data": {
      "text/latex": [
       "$2.07303\\mathrm{rad}$"
      ],
      "text/plain": [
       "<Angle 2.07302669 rad>"
      ]
     },
     "execution_count": 89,
     "metadata": {},
     "output_type": "execute_result"
    }
   ],
   "source": [
    "gal_center.separation(SkyCoord.from_name(\"M31\")).to(u.rad)"
   ]
  },
  {
   "cell_type": "markdown",
   "metadata": {},
   "source": [
    "<a id=\"pyvo\"></a>"
   ]
  },
  {
   "cell_type": "markdown",
   "metadata": {},
   "source": [
    "# PyVO"
   ]
  },
  {
   "cell_type": "markdown",
   "metadata": {},
   "source": [
    "([back to table of contents](#toc))"
   ]
  },
  {
   "cell_type": "code",
   "execution_count": 309,
   "metadata": {},
   "outputs": [],
   "source": [
    "import pyvo as vo"
   ]
  },
  {
   "cell_type": "code",
   "execution_count": 310,
   "metadata": {},
   "outputs": [],
   "source": [
    "lotss_center = SkyCoord(ra=195.89191*u.deg, dec=49.74803*u.deg)"
   ]
  },
  {
   "cell_type": "code",
   "execution_count": 311,
   "metadata": {},
   "outputs": [],
   "source": [
    "lotss_query = vo.dal.scs.SCSQuery('https://vo.astron.nl/hetdex/lotss-dr1/cone/scs.xml')\n",
    "lotss_query['RA'] = lotss_center.ra.to(u.deg).value\n",
    "lotss_query['DEC'] = lotss_center.dec.to(u.deg).value\n",
    "lotss_query.radius = 0.5*u.deg"
   ]
  },
  {
   "cell_type": "code",
   "execution_count": 312,
   "metadata": {},
   "outputs": [
    {
     "name": "stderr",
     "output_type": "stream",
     "text": [
      "WARNING: W35: None:10:345: W35: 'value' attribute required for INFO elements [astropy.io.votable.tree]\n",
      "WARNING: W50: None:10:1698: W50: Invalid unit string 'mJy/beam' [astropy.io.votable.tree]\n",
      "WARNING: W50: None:10:1859: W50: Invalid unit string 'mJy/beam' [astropy.io.votable.tree]\n",
      "WARNING: W50: None:10:4566: W50: Invalid unit string 'mJy/beam' [astropy.io.votable.tree]\n"
     ]
    }
   ],
   "source": [
    "lotss_table = lotss_query.execute().to_table()"
   ]
  },
  {
   "cell_type": "code",
   "execution_count": 313,
   "metadata": {},
   "outputs": [
    {
     "data": {
      "text/html": [
       "<i>Table masked=True length=5</i>\n",
       "<table id=\"table35319208872\" class=\"table-striped table-bordered table-condensed\">\n",
       "<thead><tr><th>Source_Name</th><th>RA</th><th>E_RA</th><th>DEC</th><th>E_DEC</th><th>Peak_flux</th><th>E_Peak_flux</th><th>Total_flux</th><th>E_Total_flux</th><th>Major</th><th>E_Maj</th><th>Minor</th><th>E_Min</th><th>DC_Maj</th><th>E_DC_Maj</th><th>DC_Min</th><th>E_DC_Min</th><th>PA</th><th>E_PA</th><th>DC_PA</th><th>E_DC_PA</th><th>Isl_rms</th><th>S_Code</th><th>Mosaic_ID</th><th>Masked_Fraction</th><th>ID_flag</th><th>ID_name</th><th>ID_ra</th><th>ID_dec</th><th>ML_LR</th><th>LGZ_Size</th><th>LGZ_Width</th><th>LGZ_PA</th><th>LGZ_Assoc</th><th>LGZ_Assoc_Qual</th><th>LGZ_ID_Qual</th><th>Deblended_from</th><th>AllWISE</th><th>objid</th><th>gFApFlux</th><th>gFApFluxErr</th><th>gFApMag</th><th>gFApMagErr</th><th>rFApFlux</th><th>rFApFluxErr</th><th>rFApMag</th><th>rFApMagErr</th><th>iFApFlux</th><th>iFApFluxErr</th><th>iFApMag</th><th>iFApMagErr</th><th>zFApFlux</th><th>zFApFluxErr</th><th>zFApMag</th><th>zFApMagErr</th><th>yFApFlux</th><th>yFApFluxErr</th><th>yFApMag</th><th>yFApMagErr</th><th>gFKronFlux</th><th>gFKronFluxErr</th><th>rFKronFlux</th><th>rFKronFluxErr</th><th>iFKronFlux</th><th>iFKronFluxErr</th><th>zFKronFlux</th><th>zFKronFluxErr</th><th>yFKronFlux</th><th>yFKronFluxErr</th><th>W1Flux</th><th>W1FluxErr</th><th>W1Mag</th><th>W1MagErr</th><th>W2Flux</th><th>W2FluxErr</th><th>W2Mag</th><th>W2MagErr</th><th>W3Flux</th><th>W3FluxErr</th><th>W3Mag</th><th>W3MagErr</th><th>W4Flux</th><th>W4FluxErr</th><th>W4Mag</th><th>W4MagErr</th><th>z_best</th><th>z_best_source</th><th>z_spec</th><th>z_spec_source</th><th>z1_median</th><th>z1_min</th><th>z1_max</th><th>z1_area</th><th>z2_median</th><th>z2_min</th><th>z2_max</th><th>z2_area</th><th>specAGN</th><th>mqcAGN</th><th>XrayClass</th><th>_2RXS_ID</th><th>XMMSL2_ID</th><th>IRClass</th><th>EBV</th><th>PanSTARRS_Missing</th><th>u_rest</th><th>g_rest</th><th>r_rest</th><th>i_rest</th><th>z_rest</th><th>U__rest</th><th>B_rest</th><th>V_rest</th><th>I__rest</th><th>J_rest</th><th>Ks_rest</th><th>w1_rest</th><th>w2_rest</th><th>w3_rest</th></tr></thead>\n",
       "<thead><tr><th></th><th>deg</th><th>arcs</th><th>deg</th><th>arcs</th><th>mJy/beam</th><th>mJy/beam</th><th>mJy</th><th>mJy</th><th>arcs</th><th>arcs</th><th>arcs</th><th>arcs</th><th>arcs</th><th>arcs</th><th>arcs</th><th>arcs</th><th>deg</th><th>deg</th><th>deg</th><th>deg</th><th>mJy/beam</th><th></th><th></th><th></th><th></th><th></th><th>deg</th><th>deg</th><th></th><th>arcs</th><th>arcs</th><th>deg</th><th></th><th></th><th></th><th></th><th></th><th></th><th>uJy</th><th>uJy</th><th>mag</th><th>mag</th><th>uJy</th><th>uJy</th><th>mag</th><th>mag</th><th>uJy</th><th>uJy</th><th>mag</th><th>mag</th><th>uJy</th><th>uJy</th><th>mag</th><th>mag</th><th>uJy</th><th>uJy</th><th>mag</th><th>mag</th><th>uJy</th><th>uJy</th><th>uJy</th><th>uJy</th><th>uJy</th><th>uJy</th><th>uJy</th><th>uJy</th><th>uJy</th><th>uJy</th><th>uJy</th><th>uJy</th><th>mag</th><th>mag</th><th>uJy</th><th>uJy</th><th>mag</th><th>mag</th><th>uJy</th><th>uJy</th><th>mag</th><th>mag</th><th>uJy</th><th>uJy</th><th>mag</th><th>mag</th><th></th><th></th><th></th><th></th><th></th><th></th><th></th><th></th><th></th><th></th><th></th><th></th><th></th><th></th><th></th><th></th><th></th><th></th><th></th><th></th><th>mag</th><th>mag</th><th>mag</th><th>mag</th><th>mag</th><th>mag</th><th>mag</th><th>mag</th><th>mag</th><th>mag</th><th>mag</th><th>mag</th><th>mag</th><th>mag</th></tr></thead>\n",
       "<thead><tr><th>object</th><th>float64</th><th>float64</th><th>float64</th><th>float64</th><th>float64</th><th>float64</th><th>float64</th><th>float64</th><th>float64</th><th>float64</th><th>float64</th><th>float64</th><th>float64</th><th>float64</th><th>float64</th><th>float64</th><th>float64</th><th>float64</th><th>float64</th><th>float64</th><th>float64</th><th>object</th><th>object</th><th>float64</th><th>int32</th><th>object</th><th>float64</th><th>float64</th><th>float64</th><th>float64</th><th>float64</th><th>float64</th><th>float64</th><th>float64</th><th>float64</th><th>object</th><th>object</th><th>object</th><th>float64</th><th>float64</th><th>float64</th><th>float64</th><th>float64</th><th>float64</th><th>float64</th><th>float64</th><th>float64</th><th>float64</th><th>float64</th><th>float64</th><th>float64</th><th>float64</th><th>float64</th><th>float64</th><th>float64</th><th>float64</th><th>float64</th><th>float64</th><th>float64</th><th>float64</th><th>float64</th><th>float64</th><th>float64</th><th>float64</th><th>float64</th><th>float64</th><th>float64</th><th>float64</th><th>float64</th><th>float64</th><th>float64</th><th>float64</th><th>float64</th><th>float64</th><th>float64</th><th>float64</th><th>float64</th><th>float64</th><th>float64</th><th>float64</th><th>float64</th><th>float64</th><th>float64</th><th>float64</th><th>float64</th><th>float64</th><th>float64</th><th>float64</th><th>float64</th><th>float64</th><th>float64</th><th>float64</th><th>float64</th><th>float64</th><th>float64</th><th>float64</th><th>object</th><th>object</th><th>float64</th><th>object</th><th>object</th><th>int16</th><th>float64</th><th>int16</th><th>float64</th><th>float64</th><th>float64</th><th>float64</th><th>float64</th><th>float64</th><th>float64</th><th>float64</th><th>float64</th><th>float64</th><th>float64</th><th>float64</th><th>float64</th><th>float64</th></tr></thead>\n",
       "<tr><td>ILTJ130616.21+495910.3</td><td>196.567555844856</td><td>1.66553235524298</td><td>49.9862182368527</td><td>0.662037786326261</td><td>0.215866403278961</td><td>0.0572481996819551</td><td>0.509229093967978</td><td>0.0789794330318615</td><td>--</td><td>3.93851902152287</td><td>--</td><td>1.51658780990588</td><td>10.8587157646535</td><td>3.93851902152287</td><td>3.29556137334494</td><td>1.51658780990588</td><td>84.836709698722</td><td>26.3265792301626</td><td>84.836709698722</td><td>26.3265792301626</td><td>0.0558077881578356</td><td>S</td><td>P34Hetdex06</td><td>0.0</td><td>1</td><td></td><td>--</td><td>--</td><td>--</td><td>--</td><td>--</td><td>--</td><td>--</td><td>--</td><td>--</td><td></td><td></td><td></td><td>--</td><td>--</td><td>--</td><td>--</td><td>--</td><td>--</td><td>--</td><td>--</td><td>--</td><td>--</td><td>--</td><td>--</td><td>--</td><td>--</td><td>--</td><td>--</td><td>--</td><td>--</td><td>--</td><td>--</td><td>--</td><td>--</td><td>--</td><td>--</td><td>--</td><td>--</td><td>--</td><td>--</td><td>--</td><td>--</td><td>--</td><td>--</td><td>--</td><td>--</td><td>--</td><td>--</td><td>--</td><td>--</td><td>--</td><td>--</td><td>--</td><td>--</td><td>--</td><td>--</td><td>--</td><td>--</td><td>--</td><td>--</td><td>--</td><td>--</td><td>--</td><td>--</td><td>--</td><td>--</td><td>--</td><td>--</td><td>--</td><td>--</td><td></td><td>0</td><td>--</td><td></td><td></td><td>--</td><td>--</td><td>--</td><td>--</td><td>--</td><td>--</td><td>--</td><td>--</td><td>--</td><td>--</td><td>--</td><td>--</td><td>--</td><td>--</td><td>--</td><td>--</td><td>--</td></tr>\n",
       "<tr><td>ILTJ130605.33+495950.8</td><td>196.522193843944</td><td>0.303891806925671</td><td>49.9974641296175</td><td>0.513537279977256</td><td>0.423505751242122</td><td>0.059165029902782</td><td>0.516878684098851</td><td>0.0970983536179056</td><td>--</td><td>1.21504893859048</td><td>--</td><td>0.705772321138932</td><td>0.0</td><td>1.21504893859048</td><td>0.0</td><td>0.705772321138932</td><td>173.630844694789</td><td>23.3455533743703</td><td>0.0</td><td>23.3455533743703</td><td>0.0575732738070656</td><td>S</td><td>P34Hetdex06</td><td>0.0</td><td>1</td><td>PSO J130605.380+495951.153</td><td>196.5223641</td><td>49.99752973</td><td>690.036378825709</td><td>--</td><td>--</td><td>--</td><td>--</td><td>--</td><td>--</td><td></td><td>J130605.38+495950.8</td><td></td><td>3.06574343311769</td><td>0.786777194911153</td><td>22.6836604833287</td><td>0.278637956576939</td><td>8.75067277446298</td><td>0.792770637928557</td><td>21.5448963900143</td><td>0.0983626980293588</td><td>23.86321376618</td><td>0.871276116296454</td><td>20.4556776708459</td><td>0.0396416020521424</td><td>53.3544173822394</td><td>2.16225148737708</td><td>19.5820740453171</td><td>0.0440007564288181</td><td>53.2063345281705</td><td>4.04305227911709</td><td>19.5850916482634</td><td>0.08250311313671</td><td>2.01803338172421e-06</td><td>6.17555968062254e-07</td><td>7.34663736530279e-06</td><td>7.0943738525941e-07</td><td>2.36167975642223e-05</td><td>7.81940236721431e-07</td><td>4.7343137901633e-05</td><td>2.7679510487703e-06</td><td>5.08322342764531e-05</td><td>4.34938297651945e-06</td><td>--</td><td>--</td><td>--</td><td>--</td><td>--</td><td>--</td><td>--</td><td>--</td><td>--</td><td>--</td><td>--</td><td>--</td><td>--</td><td>--</td><td>--</td><td>--</td><td>0.77</td><td>0.0</td><td>--</td><td>--</td><td>0.77</td><td>0.636</td><td>0.9118</td><td>0.74</td><td>0.5587</td><td>0.5317</td><td>0.5877</td><td>0.051</td><td></td><td>0</td><td>0.0</td><td></td><td></td><td>0</td><td>0.01091</td><td>--</td><td>-21.2124140470411</td><td>-22.7681080509189</td><td>-23.4737485599868</td><td>-23.7702312959744</td><td>-24.0737377147023</td><td>--</td><td>-22.5181821204332</td><td>-23.2107028758978</td><td>--</td><td>-24.3495700058843</td><td>-24.2845276401204</td><td>-23.5081581053761</td><td>--</td><td>--</td></tr>\n",
       "<tr><td>ILTJ130549.58+500422.5</td><td>196.456562801439</td><td>0.400058965994482</td><td>50.0729181232154</td><td>0.322923289501479</td><td>0.485691458636947</td><td>0.0604679720068361</td><td>0.623039244187974</td><td>0.0968843082428916</td><td>--</td><td>0.94339683169702</td><td>--</td><td>0.758767336711327</td><td>3.98323053865391</td><td>0.94339683169702</td><td>2.26243899676432</td><td>0.758767336711327</td><td>95.575878075771</td><td>46.7037861788898</td><td>95.5758780757715</td><td>46.7037861788898</td><td>0.0576240818190854</td><td>S</td><td>P34Hetdex06</td><td>0.69</td><td>1</td><td></td><td>--</td><td>--</td><td>--</td><td>--</td><td>--</td><td>--</td><td>--</td><td>--</td><td>--</td><td></td><td></td><td></td><td>--</td><td>--</td><td>--</td><td>--</td><td>--</td><td>--</td><td>--</td><td>--</td><td>--</td><td>--</td><td>--</td><td>--</td><td>--</td><td>--</td><td>--</td><td>--</td><td>--</td><td>--</td><td>--</td><td>--</td><td>--</td><td>--</td><td>--</td><td>--</td><td>--</td><td>--</td><td>--</td><td>--</td><td>--</td><td>--</td><td>--</td><td>--</td><td>--</td><td>--</td><td>--</td><td>--</td><td>--</td><td>--</td><td>--</td><td>--</td><td>--</td><td>--</td><td>--</td><td>--</td><td>--</td><td>--</td><td>--</td><td>--</td><td>--</td><td>--</td><td>--</td><td>--</td><td>--</td><td>--</td><td>--</td><td>--</td><td>--</td><td>--</td><td></td><td>0</td><td>--</td><td></td><td></td><td>--</td><td>--</td><td>--</td><td>--</td><td>--</td><td>--</td><td>--</td><td>--</td><td>--</td><td>--</td><td>--</td><td>--</td><td>--</td><td>--</td><td>--</td><td>--</td><td>--</td></tr>\n",
       "<tr><td>ILTJ130542.93+500437.5</td><td>196.428881057711</td><td>0.289460659524166</td><td>50.0771005495243</td><td>0.301785106074194</td><td>0.558108502678125</td><td>0.0590580180335021</td><td>0.65707753914901</td><td>0.0971700058406462</td><td>--</td><td>0.764052420456912</td><td>--</td><td>0.621173411605197</td><td>3.34871770324337</td><td>0.764052420456912</td><td>1.43110872092998</td><td>0.621173411605197</td><td>39.5218827229771</td><td>42.4419888868045</td><td>39.521882722974</td><td>42.4419888868045</td><td>0.0571036362089217</td><td>S</td><td>P34Hetdex06</td><td>0.65</td><td>1</td><td>PSO J130543.001+500436.974</td><td>196.42910775</td><td>50.07691911</td><td>715.486847955676</td><td>--</td><td>--</td><td>--</td><td>--</td><td>--</td><td>--</td><td></td><td>J130542.96+500437.8</td><td></td><td>-0.30800001127318</td><td>0.598588997036131</td><td>--</td><td>--</td><td>2.38751371468862</td><td>1.17194183399176</td><td>22.9551353125056</td><td>0.532947589455604</td><td>8.10506972115217</td><td>0.687757773083405</td><td>21.6281081123158</td><td>0.0921304245405465</td><td>9.91273239656029</td><td>1.73999860657928</td><td>21.4095165446182</td><td>0.190581103959526</td><td>19.430390246892</td><td>4.6851084316297</td><td>20.6787961919681</td><td>0.261795660447509</td><td>5.92609856541618e-07</td><td>7.5990100178183e-07</td><td>1.49397588875783e-06</td><td>4.28684332339894e-07</td><td>6.2016046983807e-06</td><td>5.46601071689281e-07</td><td>9.11182337476786e-06</td><td>1.38542243159407e-06</td><td>1.61462423265663e-05</td><td>2.70904003826594e-06</td><td>--</td><td>--</td><td>--</td><td>--</td><td>--</td><td>--</td><td>--</td><td>--</td><td>--</td><td>--</td><td>--</td><td>--</td><td>--</td><td>--</td><td>--</td><td>--</td><td>0.839</td><td>0.0</td><td>--</td><td>--</td><td>0.839</td><td>0.3958</td><td>1.3297</td><td>0.795</td><td>--</td><td>--</td><td>--</td><td>--</td><td></td><td>0</td><td>0.0</td><td></td><td></td><td>1</td><td>0.01124</td><td>--</td><td>-20.163524126335</td><td>-21.6006901857768</td><td>-22.3262981022311</td><td>-22.7623977196001</td><td>-23.2069208955163</td><td>--</td><td>-21.4161667149395</td><td>-22.0326152542715</td><td>--</td><td>-23.7880498823509</td><td>-24.1440478146679</td><td>-23.8450420536358</td><td>-23.6100561000025</td><td>--</td></tr>\n",
       "<tr><td>ILTJ130525.46+500527.9</td><td>196.356074398243</td><td>0.569636972224269</td><td>50.0911080121265</td><td>0.291143988187206</td><td>0.426601240836456</td><td>0.0553882156257087</td><td>0.5120443627136</td><td>0.0937371620247486</td><td>--</td><td>1.41586245733431</td><td>--</td><td>0.514483111414913</td><td>0.0</td><td>1.41586245733431</td><td>0.0</td><td>0.514483111414913</td><td>110.445613174588</td><td>13.0058340323589</td><td>0.0</td><td>13.0058340323589</td><td>0.0560678709007334</td><td>S</td><td>P34Hetdex06</td><td>0.72</td><td>1</td><td>AllWISE J130525.41+500527.8</td><td>196.3558863</td><td>50.0910715</td><td>95.2588346696976</td><td>--</td><td>--</td><td>--</td><td>--</td><td>--</td><td>--</td><td></td><td>J130525.41+500527.8</td><td></td><td>--</td><td>--</td><td>--</td><td>--</td><td>--</td><td>--</td><td>--</td><td>--</td><td>--</td><td>--</td><td>--</td><td>--</td><td>--</td><td>--</td><td>--</td><td>--</td><td>--</td><td>--</td><td>--</td><td>--</td><td>--</td><td>--</td><td>--</td><td>--</td><td>--</td><td>--</td><td>--</td><td>--</td><td>--</td><td>--</td><td>--</td><td>--</td><td>--</td><td>--</td><td>--</td><td>--</td><td>--</td><td>--</td><td>--</td><td>--</td><td>--</td><td>--</td><td>--</td><td>--</td><td>--</td><td>--</td><td>--</td><td>0.0</td><td>--</td><td>--</td><td>--</td><td>--</td><td>--</td><td>--</td><td>--</td><td>--</td><td>--</td><td>--</td><td></td><td>0</td><td>0.0</td><td></td><td></td><td>3</td><td>0.01103</td><td>--</td><td>--</td><td>--</td><td>--</td><td>--</td><td>--</td><td>--</td><td>--</td><td>--</td><td>--</td><td>--</td><td>--</td><td>--</td><td>--</td><td>--</td></tr>\n",
       "</table>"
      ],
      "text/plain": [
       "<Table masked=True length=5>\n",
       "     Source_Name              RA        ...      w2_rest      w3_rest\n",
       "                             deg        ...        mag          mag  \n",
       "        object             float64      ...      float64      float64\n",
       "---------------------- ---------------- ... ----------------- -------\n",
       "ILTJ130616.21+495910.3 196.567555844856 ...                --      --\n",
       "ILTJ130605.33+495950.8 196.522193843944 ...                --      --\n",
       "ILTJ130549.58+500422.5 196.456562801439 ...                --      --\n",
       "ILTJ130542.93+500437.5 196.428881057711 ... -23.6100561000025      --\n",
       "ILTJ130525.46+500527.9 196.356074398243 ...                --      --"
      ]
     },
     "execution_count": 313,
     "metadata": {},
     "output_type": "execute_result"
    }
   ],
   "source": [
    "lotss_table[:5]"
   ]
  },
  {
   "cell_type": "code",
   "execution_count": 314,
   "metadata": {},
   "outputs": [],
   "source": [
    "tgss_query = vo.dal.scs.SCSQuery('https://vo.astron.nl/tgssadr/q/cone/scs.xml')\n",
    "tgss_query['RA'] = lotss_center.ra.to(u.deg).value\n",
    "tgss_query['DEC'] = lotss_center.dec.to(u.deg).value\n",
    "tgss_query.radius = 1.5*u.deg"
   ]
  },
  {
   "cell_type": "code",
   "execution_count": 315,
   "metadata": {},
   "outputs": [
    {
     "name": "stderr",
     "output_type": "stream",
     "text": [
      "WARNING: W35: None:2:628: W35: 'value' attribute required for INFO elements [astropy.io.votable.tree]\n",
      "WARNING: W50: None:2:2098: W50: Invalid unit string 'mJy/beam' [astropy.io.votable.tree]\n",
      "WARNING: W50: None:2:2223: W50: Invalid unit string 'mJy/beam' [astropy.io.votable.tree]\n",
      "WARNING: W50: None:2:3104: W50: Invalid unit string 'mJy/beam' [astropy.io.votable.tree]\n"
     ]
    }
   ],
   "source": [
    "tgss_table = tgss_query.execute().to_table()"
   ]
  },
  {
   "cell_type": "code",
   "execution_count": 316,
   "metadata": {},
   "outputs": [
    {
     "data": {
      "text/html": [
       "<i>Table masked=True length=151</i>\n",
       "<table id=\"table35073925584\" class=\"table-striped table-bordered table-condensed\">\n",
       "<thead><tr><th>ID</th><th>RA</th><th>e_RA</th><th>DEC</th><th>e_DEC</th><th>Sint</th><th>e_Sint</th><th>Spk</th><th>e_Spk</th><th>MAJAX</th><th>e_MAJAX</th><th>MINAX</th><th>e_MINAX</th><th>PA</th><th>e_PA</th><th>Island_RMS</th><th>S_Code</th><th>Mosaic_Name</th></tr></thead>\n",
       "<thead><tr><th></th><th>deg</th><th>arcs</th><th>deg</th><th>arcs</th><th>mJy</th><th>mJy</th><th>mJy/beam</th><th>mJy/beam</th><th>arcs</th><th>arcs</th><th>arcs</th><th>arcs</th><th>deg</th><th>deg</th><th>mJy/beam</th><th></th><th></th></tr></thead>\n",
       "<thead><tr><th>object</th><th>float64</th><th>float64</th><th>float64</th><th>float64</th><th>float64</th><th>float64</th><th>float64</th><th>float64</th><th>float64</th><th>float64</th><th>float64</th><th>float64</th><th>float64</th><th>float64</th><th>float64</th><th>object</th><th>object</th></tr></thead>\n",
       "<tr><td>J131128.1+502514</td><td>197.86739</td><td>2.0</td><td>50.42066</td><td>2.0</td><td>725.3</td><td>72.6</td><td>635.0</td><td>63.5</td><td>27.8</td><td>0.1</td><td>25.7</td><td>0.1</td><td>-32.3</td><td>2.2</td><td>2.3</td><td>S</td><td>R40D64</td></tr>\n",
       "<tr><td>J131216.0+500605</td><td>198.06668</td><td>2.0</td><td>50.10156</td><td>2.0</td><td>2131.7</td><td>213.3</td><td>1034.3</td><td>103.5</td><td>43.5</td><td>0.1</td><td>25.9</td><td>0.1</td><td>9.4</td><td>0.3</td><td>2.3</td><td>M</td><td>R40D64</td></tr>\n",
       "<tr><td>J131212.0+500651</td><td>198.05014</td><td>2.1</td><td>50.11438</td><td>2.1</td><td>36.9</td><td>5.5</td><td>38.9</td><td>4.5</td><td>24.4</td><td>1.4</td><td>24.3</td><td>1.4</td><td>14.9</td><td>0.4</td><td>2.3</td><td>C</td><td>R40D64</td></tr>\n",
       "<tr><td>J131052.8+500412</td><td>197.7202</td><td>2.6</td><td>50.07018</td><td>2.4</td><td>50.7</td><td>6.2</td><td>26.6</td><td>3.6</td><td>43.2</td><td>4.6</td><td>27.5</td><td>2.1</td><td>-57.6</td><td>10.8</td><td>2.3</td><td>S</td><td>R40D64</td></tr>\n",
       "<tr><td>J130945.9+500724</td><td>197.44145</td><td>2.1</td><td>50.1236</td><td>2.1</td><td>67.1</td><td>7.7</td><td>54.3</td><td>5.9</td><td>29.5</td><td>1.3</td><td>26.1</td><td>1.1</td><td>-6.8</td><td>15.3</td><td>2.2</td><td>S</td><td>R40D64</td></tr>\n",
       "<tr><td>J131117.3+495331</td><td>197.8222</td><td>2.0</td><td>49.89199</td><td>2.0</td><td>89.6</td><td>9.8</td><td>81.8</td><td>8.5</td><td>27.0</td><td>0.8</td><td>25.4</td><td>0.7</td><td>-31.9</td><td>20.0</td><td>2.4</td><td>S</td><td>R40D64</td></tr>\n",
       "<tr><td>J131132.8+493921</td><td>197.88695</td><td>2.1</td><td>49.65585</td><td>2.1</td><td>61.4</td><td>7.5</td><td>54.9</td><td>6.1</td><td>26.7</td><td>1.3</td><td>26.2</td><td>1.2</td><td>-78.1</td><td>90.0</td><td>2.5</td><td>S</td><td>R40D64</td></tr>\n",
       "<tr><td>J130953.7+494415</td><td>197.47401</td><td>2.5</td><td>49.73753</td><td>2.5</td><td>33.3</td><td>5.1</td><td>22.5</td><td>3.4</td><td>31.8</td><td>3.7</td><td>29.1</td><td>3.2</td><td>-46.9</td><td>55.0</td><td>2.4</td><td>S</td><td>R40D64</td></tr>\n",
       "<tr><td>J130751.2+491512</td><td>196.9637</td><td>2.0</td><td>49.25356</td><td>2.0</td><td>126.3</td><td>13.6</td><td>106.3</td><td>11.1</td><td>28.6</td><td>0.9</td><td>26.0</td><td>0.7</td><td>-28.3</td><td>14.6</td><td>3.0</td><td>S</td><td>R40D63</td></tr>\n",
       "<tr><td>...</td><td>...</td><td>...</td><td>...</td><td>...</td><td>...</td><td>...</td><td>...</td><td>...</td><td>...</td><td>...</td><td>...</td><td>...</td><td>...</td><td>...</td><td>...</td><td>...</td><td>...</td></tr>\n",
       "<tr><td>J130115.3+483718</td><td>195.31412</td><td>2.1</td><td>48.62193</td><td>2.1</td><td>82.1</td><td>10.1</td><td>73.3</td><td>8.1</td><td>28.3</td><td>1.4</td><td>24.7</td><td>1.1</td><td>-29.6</td><td>15.3</td><td>3.4</td><td>S</td><td>R40D63</td></tr>\n",
       "<tr><td>J125806.6+484816</td><td>194.52756</td><td>2.0</td><td>48.80452</td><td>2.0</td><td>249.5</td><td>25.7</td><td>222.1</td><td>22.5</td><td>27.4</td><td>0.5</td><td>25.6</td><td>0.4</td><td>80.7</td><td>10.3</td><td>3.6</td><td>S</td><td>R40D63</td></tr>\n",
       "<tr><td>J125942.5+484323</td><td>194.92719</td><td>2.0</td><td>48.72306</td><td>2.0</td><td>660.8</td><td>66.4</td><td>646.0</td><td>64.7</td><td>25.5</td><td>0.1</td><td>25.1</td><td>0.1</td><td>-37.4</td><td>15.8</td><td>3.5</td><td>S</td><td>R40D63</td></tr>\n",
       "<tr><td>J125913.0+484137</td><td>194.80438</td><td>2.0</td><td>48.69371</td><td>2.0</td><td>1405.6</td><td>140.7</td><td>1245.9</td><td>124.6</td><td>27.2</td><td>0.1</td><td>26.0</td><td>0.1</td><td>84.9</td><td>2.6</td><td>3.6</td><td>C</td><td>R40D63</td></tr>\n",
       "<tr><td>J125910.1+484128</td><td>194.79247</td><td>2.0</td><td>48.6912</td><td>2.0</td><td>1837.8</td><td>183.9</td><td>1543.5</td><td>154.4</td><td>29.8</td><td>0.1</td><td>26.9</td><td>0.1</td><td>41.2</td><td>1.1</td><td>3.6</td><td>M</td><td>R40D63</td></tr>\n",
       "<tr><td>J125745.0+484122</td><td>194.43791</td><td>2.6</td><td>48.6896</td><td>2.5</td><td>32.4</td><td>7.2</td><td>28.0</td><td>4.8</td><td>27.6</td><td>3.9</td><td>26.2</td><td>3.5</td><td>-63.9</td><td>90.0</td><td>3.8</td><td>S</td><td>R40D63</td></tr>\n",
       "<tr><td>J125804.9+483540</td><td>194.52043</td><td>2.5</td><td>48.59471</td><td>2.5</td><td>42.3</td><td>7.6</td><td>32.0</td><td>5.1</td><td>29.2</td><td>3.7</td><td>28.2</td><td>3.4</td><td>-71.4</td><td>90.0</td><td>3.8</td><td>S</td><td>R40D63</td></tr>\n",
       "<tr><td>J125824.0+483052</td><td>194.60025</td><td>2.1</td><td>48.51469</td><td>2.1</td><td>91.6</td><td>11.2</td><td>79.6</td><td>8.9</td><td>28.5</td><td>1.5</td><td>25.3</td><td>1.2</td><td>46.7</td><td>17.3</td><td>3.8</td><td>S</td><td>R40D63</td></tr>\n",
       "<tr><td>J125746.9+485451</td><td>194.44542</td><td>2.1</td><td>48.91419</td><td>2.1</td><td>660.6</td><td>66.7</td><td>196.9</td><td>20.0</td><td>45.8</td><td>1.3</td><td>43.9</td><td>1.2</td><td>-6.6</td><td>27.4</td><td>3.5</td><td>M</td><td>R40D63</td></tr>\n",
       "<tr><td>J125729.6+484011</td><td>194.37334</td><td>2.4</td><td>48.66982</td><td>2.4</td><td>50.3</td><td>8.0</td><td>36.5</td><td>5.4</td><td>29.7</td><td>3.3</td><td>29.0</td><td>3.1</td><td>-79.6</td><td>90.0</td><td>3.8</td><td>S</td><td>R40D63</td></tr>\n",
       "</table>"
      ],
      "text/plain": [
       "<Table masked=True length=151>\n",
       "       ID            RA      e_RA    DEC    ... Island_RMS S_Code Mosaic_Name\n",
       "                    deg      arcs    deg    ...  mJy/beam                    \n",
       "     object       float64  float64 float64  ...  float64   object    object  \n",
       "---------------- --------- ------- -------- ... ---------- ------ -----------\n",
       "J131128.1+502514 197.86739     2.0 50.42066 ...        2.3      S      R40D64\n",
       "J131216.0+500605 198.06668     2.0 50.10156 ...        2.3      M      R40D64\n",
       "J131212.0+500651 198.05014     2.1 50.11438 ...        2.3      C      R40D64\n",
       "J131052.8+500412  197.7202     2.6 50.07018 ...        2.3      S      R40D64\n",
       "J130945.9+500724 197.44145     2.1  50.1236 ...        2.2      S      R40D64\n",
       "J131117.3+495331  197.8222     2.0 49.89199 ...        2.4      S      R40D64\n",
       "J131132.8+493921 197.88695     2.1 49.65585 ...        2.5      S      R40D64\n",
       "J130953.7+494415 197.47401     2.5 49.73753 ...        2.4      S      R40D64\n",
       "J130751.2+491512  196.9637     2.0 49.25356 ...        3.0      S      R40D63\n",
       "             ...       ...     ...      ... ...        ...    ...         ...\n",
       "J130115.3+483718 195.31412     2.1 48.62193 ...        3.4      S      R40D63\n",
       "J125806.6+484816 194.52756     2.0 48.80452 ...        3.6      S      R40D63\n",
       "J125942.5+484323 194.92719     2.0 48.72306 ...        3.5      S      R40D63\n",
       "J125913.0+484137 194.80438     2.0 48.69371 ...        3.6      C      R40D63\n",
       "J125910.1+484128 194.79247     2.0  48.6912 ...        3.6      M      R40D63\n",
       "J125745.0+484122 194.43791     2.6  48.6896 ...        3.8      S      R40D63\n",
       "J125804.9+483540 194.52043     2.5 48.59471 ...        3.8      S      R40D63\n",
       "J125824.0+483052 194.60025     2.1 48.51469 ...        3.8      S      R40D63\n",
       "J125746.9+485451 194.44542     2.1 48.91419 ...        3.5      M      R40D63\n",
       "J125729.6+484011 194.37334     2.4 48.66982 ...        3.8      S      R40D63"
      ]
     },
     "execution_count": 316,
     "metadata": {},
     "output_type": "execute_result"
    }
   ],
   "source": [
    "tgss_table[:5]"
   ]
  },
  {
   "cell_type": "code",
   "execution_count": 317,
   "metadata": {},
   "outputs": [],
   "source": [
    "lotss_sources = SkyCoord(ra=lotss_table['RA'], dec=lotss_table['DEC'])"
   ]
  },
  {
   "cell_type": "code",
   "execution_count": 318,
   "metadata": {},
   "outputs": [],
   "source": [
    "tgss_sources = SkyCoord(ra=tgss_table['RA'], dec=tgss_table['DEC'])"
   ]
  },
  {
   "cell_type": "code",
   "execution_count": 319,
   "metadata": {},
   "outputs": [],
   "source": [
    "lotss_idx, dist_2d, _ = tgss_sources.match_to_catalog_sky(lotss_sources)"
   ]
  },
  {
   "cell_type": "code",
   "execution_count": 320,
   "metadata": {},
   "outputs": [
    {
     "data": {
      "text/plain": [
       "array([  0,  19,  19,  19,   0,  19, 347, 347, 363, 359, 479, 479, 479,\n",
       "       496, 496, 542,  92,  92,  92,  92,  92,  97,  92, 137, 144,   7,\n",
       "         7,  92,   7,   0,   7,  92,  92,  94,  97, 137, 137, 137,  92,\n",
       "        92,  94, 137, 144, 144, 137,   0,  19,   7,   2, 347,  43,  27,\n",
       "        71,  71,  92, 115, 152, 152, 152, 162, 188, 192, 210, 214, 137,\n",
       "       137, 144, 144, 152, 144, 152, 290, 290, 290, 290, 295, 295, 341,\n",
       "       341, 341, 341, 341, 341, 365, 391, 421, 359, 363, 363, 479, 523,\n",
       "       632, 633, 633, 633, 643, 766, 846, 542, 542, 542, 859, 856, 856,\n",
       "       856, 856, 856, 860, 867, 863, 867, 855, 854, 855, 855, 863, 836,\n",
       "       854, 836, 742, 742, 742, 843, 850, 749, 742, 742, 742, 850, 850,\n",
       "       850, 850, 749, 749, 855, 843, 843, 856, 856, 860, 860, 863, 836,\n",
       "       867, 867, 867, 836, 836, 867, 855, 836])"
      ]
     },
     "execution_count": 320,
     "metadata": {},
     "output_type": "execute_result"
    }
   ],
   "source": [
    "lotts_idx"
   ]
  },
  {
   "cell_type": "code",
   "execution_count": 321,
   "metadata": {},
   "outputs": [
    {
     "data": {
      "text/plain": [
       "array([9.38557071e-01, 9.54753484e-01, 9.47699500e-01, 7.31929159e-01,\n",
       "       5.77656862e-01, 7.68967427e-01, 8.08510540e-01, 5.48729794e-01,\n",
       "       3.61041246e-01, 8.74869681e-01, 9.37200069e-01, 4.79595620e-01,\n",
       "       6.16756889e-01, 4.52375739e-01, 5.14839397e-01, 6.98380465e-01,\n",
       "       9.23569198e-01, 9.77709430e-01, 8.46977408e-01, 8.91539185e-01,\n",
       "       9.12932804e-01, 8.79394119e-01, 7.29393068e-01, 7.99999279e-01,\n",
       "       8.89855866e-01, 8.61571246e-01, 7.07133662e-01, 6.74153364e-01,\n",
       "       5.51861539e-01, 5.11012570e-01, 4.52109571e-01, 5.50365157e-01,\n",
       "       4.70004340e-01, 4.80790210e-01, 5.10925103e-01, 4.67501118e-01,\n",
       "       4.60369608e-01, 4.81897908e-01, 2.41594121e-01, 3.79011254e-01,\n",
       "       1.87176576e-01, 3.00117203e-01, 3.37300459e-01, 3.26897175e-01,\n",
       "       2.15809811e-01, 5.33354135e-01, 2.79932970e-01, 1.08520414e-01,\n",
       "       1.00817933e-01, 1.99014198e-01, 4.07407340e-02, 7.49015987e-04,\n",
       "       5.50165631e-03, 5.02461598e-03, 2.08759161e-04, 6.60995824e-04,\n",
       "       2.40261070e-01, 1.74917628e-01, 1.39868349e-01, 2.59559741e-04,\n",
       "       2.45149987e-03, 7.77544633e-04, 3.01720091e-04, 5.18079341e-04,\n",
       "       6.86687857e-01, 6.79373927e-01, 5.45128039e-01, 6.35023384e-01,\n",
       "       8.26495595e-01, 4.72373812e-01, 3.89031279e-01, 7.18973084e-01,\n",
       "       7.20074429e-01, 9.93163520e-01, 3.70901887e-01, 3.39178023e-01,\n",
       "       6.52368083e-01, 3.90759240e-01, 5.47357314e-01, 7.00489040e-01,\n",
       "       8.65805558e-01, 8.51125278e-01, 7.47355711e-01, 5.81785827e-04,\n",
       "       8.95673592e-04, 1.27564750e-03, 2.05161551e-01, 2.10317027e-01,\n",
       "       1.36020199e-01, 3.01313090e-01, 3.81410701e-05, 4.51673746e-04,\n",
       "       8.39313625e-03, 7.44624521e-04, 9.78919231e-03, 4.28781616e-04,\n",
       "       2.79037021e-04, 1.92430232e-03, 3.59793632e-01, 1.05784239e-01,\n",
       "       9.68858003e-02, 6.10500125e-04, 2.61095718e-01, 2.10849018e-01,\n",
       "       4.86683790e-01, 2.92542488e-01, 4.38721016e-01, 4.77617604e-01,\n",
       "       1.25134894e-01, 1.98224070e-01, 1.41910878e-01, 1.53443632e-01,\n",
       "       1.64804739e-01, 2.47126827e-01, 3.98359338e-01, 3.20441746e-01,\n",
       "       3.80073277e-01, 4.41885716e-01, 5.66664389e-01, 2.17720021e-01,\n",
       "       5.00652775e-01, 4.40056167e-01, 3.33563981e-01, 2.83881250e-01,\n",
       "       4.59177942e-01, 7.30574983e-01, 7.15503186e-01, 9.22780798e-01,\n",
       "       4.52006090e-01, 4.78463264e-01, 5.44002448e-01, 6.41372919e-01,\n",
       "       7.98192327e-01, 8.82359134e-01, 7.14836838e-01, 9.62484901e-01,\n",
       "       9.74015278e-01, 7.67051599e-01, 9.86158935e-01, 9.82541860e-01,\n",
       "       9.46042730e-01, 6.91797811e-01, 8.08884860e-01, 7.08798937e-01,\n",
       "       7.80321137e-01, 7.87147148e-01, 9.32221249e-01, 9.69447488e-01,\n",
       "       1.00450844e+00, 7.72663115e-01, 9.76014245e-01])"
      ]
     },
     "execution_count": 321,
     "metadata": {},
     "output_type": "execute_result"
    }
   ],
   "source": [
    "dist_2d.to(u.deg).value"
   ]
  },
  {
   "cell_type": "markdown",
   "metadata": {},
   "source": [
    "Note: Barnard's star simbad astroquery example at https://astroquery.readthedocs.io/en/latest/simbad/simbad.html"
   ]
  },
  {
   "cell_type": "markdown",
   "metadata": {},
   "source": [
    "## Image access"
   ]
  },
  {
   "cell_type": "code",
   "execution_count": 327,
   "metadata": {},
   "outputs": [],
   "source": [
    "tgss_service = vo.dal.sia.SIAService('https://vo.astron.nl/tgssadr/q_fits/imgs/siap.xml')"
   ]
  },
  {
   "cell_type": "code",
   "execution_count": 328,
   "metadata": {},
   "outputs": [],
   "source": [
    "lotss_service = vo.dal.sia.SIAService('https://vo.astron.nl/hetdex/lotss-dr1-img/imgs/siap.xml')"
   ]
  },
  {
   "cell_type": "code",
   "execution_count": 329,
   "metadata": {},
   "outputs": [
    {
     "name": "stderr",
     "output_type": "stream",
     "text": [
      "WARNING: W27: None:3:213: W27: COOSYS deprecated in VOTable 1.2 [astropy.io.votable.tree]\n",
      "WARNING: W03: None:3:248: W03: Implicitly generating an ID from a name 'INPUT:POS' -> 'INPUT_POS' [astropy.io.votable.xmlutil]\n",
      "WARNING: W06: None:3:248: W06: Invalid UCD 'pos.eq': Secondary word 'pos.eq' is not valid as a primary word [astropy.io.votable.tree]\n",
      "WARNING: W03: None:3:430: W03: Implicitly generating an ID from a name 'INPUT:SIZE' -> 'INPUT_SIZE' [astropy.io.votable.xmlutil]\n",
      "WARNING: W03: None:3:584: W03: Implicitly generating an ID from a name 'INPUT:INTERSECT' -> 'INPUT_INTERSECT' [astropy.io.votable.xmlutil]\n",
      "WARNING: W48: None:3:747: W48: Unknown attribute 'value' on OPTION [astropy.io.votable.tree]\n",
      "WARNING: W48: None:3:799: W48: Unknown attribute 'value' on OPTION [astropy.io.votable.tree]\n",
      "WARNING: W48: None:3:847: W48: Unknown attribute 'value' on OPTION [astropy.io.votable.tree]\n",
      "WARNING: W48: None:3:897: W48: Unknown attribute 'value' on OPTION [astropy.io.votable.tree]\n",
      "WARNING: W03: None:3:982: W03: Implicitly generating an ID from a name 'INPUT:FORMAT' -> 'INPUT_FORMAT' [astropy.io.votable.xmlutil]\n",
      "WARNING: W03: None:3:1124: W03: Implicitly generating an ID from a name 'INPUT:RESPONSEFORMAT' -> 'INPUT_RESPONSEFORMAT' [astropy.io.votable.xmlutil]\n",
      "WARNING: W48: None:3:1287: W48: Unknown attribute 'value' on OPTION [astropy.io.votable.tree]\n",
      "WARNING: W48: None:3:1346: W48: Unknown attribute 'value' on OPTION [astropy.io.votable.tree]\n",
      "WARNING: W48: None:3:1413: W48: Unknown attribute 'value' on OPTION [astropy.io.votable.tree]\n",
      "WARNING: W48: None:3:1519: W48: Unknown attribute 'value' on OPTION [astropy.io.votable.tree]\n",
      "WARNING: W48: None:3:1582: W48: Unknown attribute 'value' on OPTION [astropy.io.votable.tree]\n",
      "WARNING: W48: None:3:1670: W48: Unknown attribute 'value' on OPTION (suppressing further warnings of this type...) [astropy.io.votable.tree]\n",
      "WARNING: W03: None:3:3399: W03: Implicitly generating an ID from a name 'INPUT:MAXREC' -> 'INPUT_MAXREC' [astropy.io.votable.xmlutil]\n",
      "WARNING: W03: None:3:3559: W03: Implicitly generating an ID from a name 'INPUT:VERB' -> 'INPUT_VERB' [astropy.io.votable.xmlutil]\n",
      "WARNING: W06: None:3:5843: W06: Invalid UCD 'POS_EQ_RA_MAIN': Unknown word 'POS_EQ_RA_MAIN' [astropy.io.votable.tree]\n",
      "WARNING: W06: None:3:6015: W06: Invalid UCD 'POS_EQ_DEC_MAIN': Unknown word 'POS_EQ_DEC_MAIN' [astropy.io.votable.tree]\n",
      "WARNING: W06: None:3:6344: W06: Invalid UCD 'INST_ID': Unknown word 'INST_ID' [astropy.io.votable.tree]\n"
     ]
    },
    {
     "data": {
      "text/plain": [
       "'Download the TGSS Alternative Data Release mosaic images (5 deg\\nsquare mosaics).'"
      ]
     },
     "execution_count": 329,
     "metadata": {},
     "output_type": "execute_result"
    }
   ],
   "source": [
    "tgss_service.description"
   ]
  },
  {
   "cell_type": "code",
   "execution_count": 330,
   "metadata": {},
   "outputs": [
    {
     "name": "stderr",
     "output_type": "stream",
     "text": [
      "WARNING: W35: None:12:177: W35: 'value' attribute required for INFO elements [astropy.io.votable.tree]\n",
      "WARNING: W27: None:12:525: W27: COOSYS deprecated in VOTable 1.2 [astropy.io.votable.tree]\n",
      "WARNING: W06: None:12:2173: W06: Invalid UCD 'POS_EQ_RA_MAIN': Unknown word 'POS_EQ_RA_MAIN' [astropy.io.votable.tree]\n",
      "WARNING: W06: None:12:2345: W06: Invalid UCD 'POS_EQ_DEC_MAIN': Unknown word 'POS_EQ_DEC_MAIN' [astropy.io.votable.tree]\n",
      "WARNING: W06: None:12:2674: W06: Invalid UCD 'INST_ID': Unknown word 'INST_ID' [astropy.io.votable.tree]\n"
     ]
    }
   ],
   "source": [
    "res = lotss_service.search(pos=lotss_center, size=0.01)"
   ]
  },
  {
   "cell_type": "code",
   "execution_count": 331,
   "metadata": {},
   "outputs": [
    {
     "data": {
      "text/plain": [
       "masked_array(data=[b'P34Hetdex06-low-residual-mosaic',\n",
       "                   b'P34Hetdex06-residual-mosaic',\n",
       "                   b'P34Hetdex06-low-mosaic', b'P34Hetdex06-mosaic',\n",
       "                   b'P34Hetdex06-mosaic-rms'],\n",
       "             mask=[False, False, False, False, False],\n",
       "       fill_value='?',\n",
       "            dtype=object)"
      ]
     },
     "execution_count": 331,
     "metadata": {},
     "output_type": "execute_result"
    }
   ],
   "source": [
    "res['imageTitle']"
   ]
  },
  {
   "cell_type": "code",
   "execution_count": 332,
   "metadata": {},
   "outputs": [
    {
     "data": {
      "image/png": "[encoded data removed]",
      "text/plain": [
       "<Figure size 432x288 with 1 Axes>"
      ]
     },
     "metadata": {},
     "output_type": "display_data"
    }
   ],
   "source": [
    "fig, ax = plt.subplots()\n",
    "for num, cov in enumerate(res['coverage']):\n",
    "    ax.plot(cov[::2], cov[1::2], label=str(num)+res['imageTitle'][num].decode('utf-8'));\n",
    "ax.plot([lotss_center.ra.to(u.deg).value], [lotss_center.dec.to(u.deg).value], 'ro');\n",
    "ax.legend();"
   ]
  },
  {
   "cell_type": "code",
   "execution_count": 333,
   "metadata": {},
   "outputs": [],
   "source": [
    "import astropy.io.fits as fits"
   ]
  },
  {
   "cell_type": "code",
   "execution_count": 334,
   "metadata": {},
   "outputs": [
    {
     "data": {
      "text/plain": [
       "'https://vo.astron.nl/getproduct/hetdex/data/low-mosaics/P34Hetdex06-low-mosaic.fits'"
      ]
     },
     "execution_count": 334,
     "metadata": {},
     "output_type": "execute_result"
    }
   ],
   "source": [
    "res['accref'][2].decode('utf-8')"
   ]
  },
  {
   "cell_type": "code",
   "execution_count": 335,
   "metadata": {},
   "outputs": [],
   "source": [
    "f = fits.open(res['accref'][2].decode('utf-8'))"
   ]
  },
  {
   "cell_type": "code",
   "execution_count": 336,
   "metadata": {},
   "outputs": [
    {
     "data": {
      "image/png": "[encoded data removed]",
      "text/plain": [
       "<Figure size 720x720 with 1 Axes>"
      ]
     },
     "metadata": {},
     "output_type": "display_data"
    }
   ],
   "source": [
    "fig, ax = plt.subplots(figsize=(10,10))\n",
    "ax.imshow(f[0].data.squeeze(),\n",
    "          vmin=0,\n",
    "          vmax=np.percentile(f[0].data[np.logical_not(np.isnan(f[0].data))], 99.9)\n",
    "         );"
   ]
  },
  {
   "cell_type": "markdown",
   "metadata": {},
   "source": [
    "It would of course be better to add proper axes."
   ]
  },
  {
   "cell_type": "code",
   "execution_count": 337,
   "metadata": {},
   "outputs": [],
   "source": [
    "from astropy.wcs import WCS"
   ]
  },
  {
   "cell_type": "code",
   "execution_count": 338,
   "metadata": {},
   "outputs": [],
   "source": [
    "wcs = WCS(f[0])"
   ]
  },
  {
   "cell_type": "code",
   "execution_count": 339,
   "metadata": {},
   "outputs": [
    {
     "data": {
      "text/plain": [
       "WCS Keywords\n",
       "\n",
       "Number of WCS axes: 2\n",
       "CTYPE : 'RA---SIN'  'DEC--SIN'  \n",
       "CRVAL : 195.89191  49.74803  \n",
       "CRPIX : 1260.0  1260.0  \n",
       "PC1_1 PC1_2  : 1.0  0.0  \n",
       "PC2_1 PC2_2  : 0.0  1.0  \n",
       "CDELT : -0.00125  0.00125  \n",
       "NAXIS : 2520  2520"
      ]
     },
     "execution_count": 339,
     "metadata": {},
     "output_type": "execute_result"
    }
   ],
   "source": [
    "wcs"
   ]
  },
  {
   "cell_type": "code",
   "execution_count": 391,
   "metadata": {},
   "outputs": [],
   "source": [
    "def plot_lotss(tgss_dots=False, lotss_dots=False, lotss_flux_min=100):\n",
    "    fig = plt.figure(figsize=(10,10))\n",
    "    ax = fig.add_subplot(1, 1, 1, projection=wcs)\n",
    "    ax.imshow(f[0].data.squeeze(),\n",
    "              vmin=0,\n",
    "              vmax=np.percentile(f[0].data[np.logical_not(np.isnan(f[0].data))], 99.9)\n",
    "             );\n",
    "    if lotss_dots:\n",
    "        lotss_subset = lotss_table[lotss_table[\"Total_flux\"]>lotss_flux_min]\n",
    "        ax.plot(lotss_subset[\"RA\"], lotss_subset[\"DEC\"], 'ro', transform=ax.get_transform('world'),\n",
    "               label=\"LoTSS catalog > {}mJy\".format(lotss_flux_min));            \n",
    "    if tgss_dots:\n",
    "        ax.plot(tgss_table[\"RA\"], tgss_table[\"DEC\"], 'y.', transform=ax.get_transform('world'),\n",
    "               label=\"TGSS catalog\");\n",
    "    ax.legend()\n",
    "    return ax"
   ]
  },
  {
   "cell_type": "code",
   "execution_count": 392,
   "metadata": {},
   "outputs": [],
   "source": [
    "from ipywidgets import interact, interactive, fixed, interact_manual, FloatSlider"
   ]
  },
  {
   "cell_type": "code",
   "execution_count": 393,
   "metadata": {},
   "outputs": [
    {
     "data": {
      "application/vnd.jupyter.widget-view+json": {
       "model_id": "d8b7db8073f04a3cbefa1bf0cad026c7",
       "version_major": 2,
       "version_minor": 0
      },
      "text/plain": [
       "interactive(children=(Checkbox(value=False, description='tgss_dots'), Checkbox(value=False, description='lotss…"
      ]
     },
     "metadata": {},
     "output_type": "display_data"
    }
   ],
   "source": [
    "interact(plot_lotss, lotss_flux_min=FloatSlider(min=0, max=150, step=5, continuous_update=False));"
   ]
  },
  {
   "cell_type": "markdown",
   "metadata": {},
   "source": [
    "TGSS + LoTSS, Astropy crossmatch"
   ]
  },
  {
   "cell_type": "markdown",
   "metadata": {},
   "source": [
    "Barnard's star uit GAIA"
   ]
  },
  {
   "cell_type": "markdown",
   "metadata": {},
   "source": [
    "Astroquery"
   ]
  },
  {
   "cell_type": "code",
   "execution_count": 528,
   "metadata": {},
   "outputs": [],
   "source": [
    "tap_service = vo.dal.TAPService('https://gaia.aip.de/tap')"
   ]
  },
  {
   "cell_type": "code",
   "execution_count": 624,
   "metadata": {},
   "outputs": [],
   "source": [
    "tap_result = tap_service.run_sync('SELECT TOP 5 source_id, ra, dec FROM gdr2.gaia_source order by random_index')"
   ]
  },
  {
   "cell_type": "code",
   "execution_count": 534,
   "metadata": {},
   "outputs": [
    {
     "name": "stdout",
     "output_type": "stream",
     "text": [
      "     source_id             ra               dec       \n",
      "                       Angle[deg]        Angle[deg]   \n",
      "------------------- ---------------- -----------------\n",
      "4205572950572486656 284.997396761671  -7.2137936162749\n",
      "4205565597589384320 285.403309358952 -7.14858421994595\n",
      "4053206649305182080 275.626768559365 -25.1338124568725\n",
      "4205568964799943680 285.346380248197 -7.11038996178636\n",
      "4049398731303340416 274.009409438469 -30.5251247235525\n"
     ]
    }
   ],
   "source": [
    "print(tap_result.to_table())"
   ]
  },
  {
   "cell_type": "code",
   "execution_count": null,
   "metadata": {},
   "outputs": [],
   "source": []
  }
 ],
 "metadata": {
  "kernelspec": {
   "display_name": "Python 3",
   "language": "python",
   "name": "python3"
  },
  "language_info": {
   "codemirror_mode": {
    "name": "ipython",
    "version": 3
   },
   "file_extension": ".py",
   "mimetype": "text/x-python",
   "name": "python",
   "nbconvert_exporter": "python",
   "pygments_lexer": "ipython3",
   "version": "3.6.8"
  }
 },
 "nbformat": 4,
 "nbformat_minor": 2
}
