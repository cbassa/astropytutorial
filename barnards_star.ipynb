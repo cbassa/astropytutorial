{
 "cells": [
  {
   "cell_type": "markdown",
   "metadata": {},
   "source": [
    "# Astropy tutorial: putting it all together"
   ]
  },
  {
   "cell_type": "markdown",
   "metadata": {},
   "source": [
    "In this tutorial we'll learn how to use some of the features of `astropy` as well as the `astroquery` library."
   ]
  },
  {
   "cell_type": "markdown",
   "metadata": {},
   "source": [
    "## Astroquery\n",
    "`astroquery` is a handy python library for accessing information from the online **Simbad** and **Vizier** databases.\n",
    "\n",
    "Let's first load the **Simbad** interface and send a query for your favorite object."
   ]
  },
  {
   "cell_type": "code",
   "execution_count": 1,
   "metadata": {},
   "outputs": [],
   "source": [
    "from astroquery.simbad import Simbad\n",
    "import astropy.units as u"
   ]
  },
  {
   "cell_type": "code",
   "execution_count": 2,
   "metadata": {},
   "outputs": [
    {
     "data": {
      "text/html": [
       "<i>Table masked=True length=1</i>\n",
       "<table id=\"table140559944916664\" class=\"table-striped table-bordered table-condensed\">\n",
       "<thead><tr><th>MAIN_ID</th><th>RA</th><th>DEC</th><th>RA_PREC</th><th>DEC_PREC</th><th>COO_ERR_MAJA</th><th>COO_ERR_MINA</th><th>COO_ERR_ANGLE</th><th>COO_QUAL</th><th>COO_WAVELENGTH</th><th>COO_BIBCODE</th></tr></thead>\n",
       "<thead><tr><th></th><th>&quot;h:m:s&quot;</th><th>&quot;d:m:s&quot;</th><th></th><th></th><th>mas</th><th>mas</th><th>deg</th><th></th><th></th><th></th></tr></thead>\n",
       "<thead><tr><th>object</th><th>str13</th><th>str13</th><th>int16</th><th>int16</th><th>float32</th><th>float32</th><th>int16</th><th>str1</th><th>str1</th><th>object</th></tr></thead>\n",
       "<tr><td>NAME Barnard&apos;s star</td><td>17 57 48.4997</td><td>+04 41 36.111</td><td>14</td><td>14</td><td>0.223</td><td>0.304</td><td>90</td><td>A</td><td>O</td><td>2018yCat.1345....0G</td></tr>\n",
       "</table>"
      ],
      "text/plain": [
       "<Table masked=True length=1>\n",
       "      MAIN_ID             RA      ... COO_WAVELENGTH     COO_BIBCODE    \n",
       "                       \"h:m:s\"    ...                                   \n",
       "       object           str13     ...      str1             object      \n",
       "------------------- ------------- ... -------------- -------------------\n",
       "NAME Barnard's star 17 57 48.4997 ...              O 2018yCat.1345....0G"
      ]
     },
     "execution_count": 2,
     "metadata": {},
     "output_type": "execute_result"
    }
   ],
   "source": [
    "result = Simbad.query_object(\"Barnard's Star\")\n",
    "result"
   ]
  },
  {
   "cell_type": "code",
   "execution_count": 3,
   "metadata": {},
   "outputs": [
    {
     "data": {
      "text/plain": [
       "astropy.table.table.Table"
      ]
     },
     "execution_count": 3,
     "metadata": {},
     "output_type": "execute_result"
    }
   ],
   "source": [
    "type(result)"
   ]
  },
  {
   "cell_type": "markdown",
   "metadata": {},
   "source": [
    "You'll see that this query returns an object with several columns but a single row. This object is in fact an `astropy.table` object. To access columns in this table, you can use the following commands."
   ]
  },
  {
   "cell_type": "code",
   "execution_count": 4,
   "metadata": {},
   "outputs": [
    {
     "data": {
      "text/plain": [
       "<TableColumns names=('MAIN_ID','RA','DEC','RA_PREC','DEC_PREC','COO_ERR_MAJA','COO_ERR_MINA','COO_ERR_ANGLE','COO_QUAL','COO_WAVELENGTH','COO_BIBCODE')>"
      ]
     },
     "execution_count": 4,
     "metadata": {},
     "output_type": "execute_result"
    }
   ],
   "source": [
    "result[0].columns"
   ]
  },
  {
   "cell_type": "code",
   "execution_count": 5,
   "metadata": {},
   "outputs": [
    {
     "data": {
      "text/plain": [
       "('17 57 48.4997', '+04 41 36.111')"
      ]
     },
     "execution_count": 5,
     "metadata": {},
     "output_type": "execute_result"
    }
   ],
   "source": [
    "result[0][\"RA\"], result[0][\"DEC\"]"
   ]
  },
  {
   "cell_type": "code",
   "execution_count": 6,
   "metadata": {},
   "outputs": [
    {
     "data": {
      "text/plain": [
       "'17 57 48.4997'"
      ]
     },
     "execution_count": 6,
     "metadata": {},
     "output_type": "execute_result"
    }
   ],
   "source": [
    "result[0][\"RA\"]"
   ]
  },
  {
   "cell_type": "markdown",
   "metadata": {},
   "source": [
    "Exercise: Use the RA and Dec columns from the table to create a SkyCoord object"
   ]
  },
  {
   "cell_type": "code",
   "execution_count": 7,
   "metadata": {},
   "outputs": [],
   "source": [
    "from astropy.coordinates import SkyCoord"
   ]
  },
  {
   "cell_type": "code",
   "execution_count": 8,
   "metadata": {},
   "outputs": [
    {
     "data": {
      "text/plain": [
       "<SkyCoord (ICRS): (ra, dec) in deg\n",
       "    (269.45208208, 4.69336417)>"
      ]
     },
     "execution_count": 8,
     "metadata": {},
     "output_type": "execute_result"
    }
   ],
   "source": [
    "SkyCoord(ra=result[0][\"RA\"], dec=result[0][\"DEC\"], unit=(u.hourangle, u.deg))\n"
   ]
  },
  {
   "cell_type": "markdown",
   "metadata": {},
   "source": [
    "Let's import the `Vizier` module from `astroquery`."
   ]
  },
  {
   "cell_type": "code",
   "execution_count": 9,
   "metadata": {},
   "outputs": [],
   "source": [
    "from astroquery.vizier import Vizier"
   ]
  },
  {
   "cell_type": "markdown",
   "metadata": {},
   "source": [
    "Exercise: Use the `find_catalogs` method from `Vizier` to search for the GAIA DR2 catalog."
   ]
  },
  {
   "cell_type": "code",
   "execution_count": 10,
   "metadata": {},
   "outputs": [
    {
     "name": "stdout",
     "output_type": "stream",
     "text": [
      "OrderedDict([('I/345', </>), ('I/347', </>), ('I/348', </>), ('IV/35', </>), ('IV/36', </>), ('J/A+A/616/A12', </>), ('J/A+A/616/A37', </>), ('J/A+A/616/L2', </>), ('J/A+A/616/L15', </>), ('J/A+A/617/A135', </>), ('J/A+A/618/A44', </>), ('J/A+A/618/A56', </>), ('J/A+A/618/A93', </>), ('J/A+A/619/A8', </>), ('J/A+A/619/A106', </>), ('J/A+A/619/A155', </>), ('J/A+A/619/A180', </>), ('J/A+A/619/L8', </>), ('J/A+A/620/A91', </>), ('J/A+A/620/A128', </>), ('J/A+A/620/A141', </>), ('J/A+A/620/A155', </>), ('J/A+A/620/A172', </>), ('J/A+A/621/A38', </>), ('J/A+A/621/A48', </>), ('J/A+A/621/L2', </>), ('J/A+A/621/L3', </>), ('J/A+A/622/A60', </>), ('J/A+A/622/A165', </>), ('J/A+A/622/L13', </>), ('J/A+A/623/A22', </>), ('J/A+A/623/A25', </>), ('J/MNRAS/482/4570', </>), ('J/MNRAS/482/5138', </>), ('J/MNRAS/484/2832', </>)])\n"
     ]
    }
   ],
   "source": [
    "print(Vizier.find_catalogs(\"GAIA DR2\"))"
   ]
  },
  {
   "cell_type": "markdown",
   "metadata": {},
   "source": [
    "This query returns many catalogs that use the GAIA DR2 data. The catalog we are interested is I/345."
   ]
  },
  {
   "cell_type": "markdown",
   "metadata": {},
   "source": [
    "Exercise: Use the `Vizier.query_region` method to query the GAIA DR2 catalog (I/345) for objects within 0.1 degrees around Barnard's Star."
   ]
  },
  {
   "cell_type": "code",
   "execution_count": 11,
   "metadata": {},
   "outputs": [
    {
     "data": {
      "text/plain": [
       "TableList with 2 tables:\n",
       "\t'0:I/345/gaia2' with 32 column(s) and 50 row(s) \n",
       "\t'1:I/345/rvstdcat' with 32 column(s) and 1 row(s) "
      ]
     },
     "execution_count": 11,
     "metadata": {},
     "output_type": "execute_result"
    }
   ],
   "source": [
    "result = Vizier.query_region(\"Barnard's Star\", radius=0.1*u.deg, catalog=\"I/345\")\n",
    "result"
   ]
  },
  {
   "cell_type": "markdown",
   "metadata": {},
   "source": [
    "You will see that this query returned two results, the gaia2 catalog, as well as the catalog with radial velocity standards. At this point we are only interested in the first catalog. Unfortunately, the first catalog only has 50 rows, because this is the `Vizier` standard. To remove this limit, set `Vizier.ROW_LIMIT = -1`. Be aware that this may mean you will be downloading a large amount of data. Rerun the query with the new limit."
   ]
  },
  {
   "cell_type": "code",
   "execution_count": 12,
   "metadata": {},
   "outputs": [
    {
     "data": {
      "text/plain": [
       "TableList with 1 tables:\n",
       "\t'0:I/345/gaia2' with 32 column(s) and 2336 row(s) "
      ]
     },
     "execution_count": 12,
     "metadata": {},
     "output_type": "execute_result"
    }
   ],
   "source": [
    "Vizier.ROW_LIMIT = -1\n",
    "result = Vizier.query_region(\"Barnard's Star\", radius=0.1*u.deg, catalog=\"I/345/gaia2\")\n",
    "result"
   ]
  },
  {
   "cell_type": "markdown",
   "metadata": {},
   "source": [
    "This result contains the following columns:"
   ]
  },
  {
   "cell_type": "code",
   "execution_count": 13,
   "metadata": {},
   "outputs": [
    {
     "data": {
      "text/plain": [
       "<TableColumns names=('RA_ICRS','e_RA_ICRS','DE_ICRS','e_DE_ICRS','Source','Plx','e_Plx','pmRA','e_pmRA','pmDE','e_pmDE','Dup','FG','e_FG','Gmag','e_Gmag','FBP','e_FBP','BPmag','e_BPmag','FRP','e_FRP','RPmag','e_RPmag','BP-RP','RV','e_RV','Teff','AG','E_BP-RP_','Rad','Lum')>"
      ]
     },
     "execution_count": 13,
     "metadata": {},
     "output_type": "execute_result"
    }
   ],
   "source": [
    "data = result[0]\n",
    "data.columns"
   ]
  },
  {
   "cell_type": "markdown",
   "metadata": {},
   "source": [
    "A cool feature of this table is that it contains information about the unit of each column."
   ]
  },
  {
   "cell_type": "code",
   "execution_count": 15,
   "metadata": {},
   "outputs": [
    {
     "name": "stdout",
     "output_type": "stream",
     "text": [
      "deg\n",
      "mas / yr\n"
     ]
    }
   ],
   "source": [
    "print(data[\"RA_ICRS\"].unit)\n",
    "print(data[\"pmRA\"].unit)"
   ]
  },
  {
   "cell_type": "markdown",
   "metadata": {},
   "source": [
    "Exercise: use the RA and DEC columns to define `SkyCoord` objects for the entire table, now using the table units."
   ]
  },
  {
   "cell_type": "code",
   "execution_count": 17,
   "metadata": {},
   "outputs": [],
   "source": [
    "columns = data[\"RA_ICRS\"], data[\"DE_ICRS\"]\n",
    "p = SkyCoord(ra=columns[0], dec=columns[1], frame=\"icrs\", unit=(columns[0].unit, columns[1].unit))"
   ]
  },
  {
   "cell_type": "code",
   "execution_count": 19,
   "metadata": {},
   "outputs": [],
   "source": [
    "import matplotlib.pyplot as plt\n",
    "%matplotlib inline"
   ]
  },
  {
   "cell_type": "code",
   "execution_count": 22,
   "metadata": {},
   "outputs": [
    {
     "data": {
      "text/plain": [
       "[<matplotlib.lines.Line2D at 0x7fd6a5d45d30>]"
      ]
     },
     "execution_count": 22,
     "metadata": {},
     "output_type": "execute_result"
    },
    {
     "data": {
      "image/png": "[encoded data removed]",
      "text/plain": [
       "<Figure size 432x288 with 1 Axes>"
      ]
     },
     "metadata": {},
     "output_type": "display_data"
    }
   ],
   "source": [
    "plt.plot(p.ra, p.dec, '.')"
   ]
  },
  {
   "cell_type": "code",
   "execution_count": null,
   "metadata": {},
   "outputs": [],
   "source": [
    "c = data[\"e_RPmag\"]<0.01"
   ]
  },
  {
   "cell_type": "code",
   "execution_count": null,
   "metadata": {},
   "outputs": [],
   "source": [
    "fig, ax = plt.subplots()\n",
    "ax.plot(data[\"BP-RP\"][c], data[\"RPmag\"][c], '.', alpha=0.1)"
   ]
  },
  {
   "cell_type": "code",
   "execution_count": null,
   "metadata": {},
   "outputs": [],
   "source": [
    "plt.plot(data[\"pmRA\"], data[\"pmDE\"], '.')\n",
    "#plt.xlim(-1000, 1000)\n",
    "#plt.ylim(-1000, 1000)"
   ]
  },
  {
   "cell_type": "code",
   "execution_count": null,
   "metadata": {},
   "outputs": [],
   "source": [
    "c = data[\"RV\"]>0\n",
    "data[\"RV\"][c]"
   ]
  },
  {
   "cell_type": "code",
   "execution_count": null,
   "metadata": {},
   "outputs": [],
   "source": [
    "d = Distance(parallax=data[\"Plx\"], allow_negative=True)"
   ]
  },
  {
   "cell_type": "code",
   "execution_count": null,
   "metadata": {},
   "outputs": [],
   "source": [
    "SkyCoord(ra=1*u.deg, dec=2*u.deg, pm_ra_cosdec=2*u.mas/u.yr, pm_dec=1*u.mas/u.yr)"
   ]
  },
  {
   "cell_type": "code",
   "execution_count": null,
   "metadata": {},
   "outputs": [],
   "source": [
    "p = SkyCoord(ra=data[\"RA_ICRS\"], dec=data[\"DE_ICRS\"], distance=d)"
   ]
  },
  {
   "cell_type": "code",
   "execution_count": null,
   "metadata": {},
   "outputs": [],
   "source": [
    "p"
   ]
  },
  {
   "cell_type": "code",
   "execution_count": null,
   "metadata": {},
   "outputs": [],
   "source": []
  }
 ],
 "metadata": {
  "kernelspec": {
   "display_name": "Python 3",
   "language": "python",
   "name": "python3"
  },
  "language_info": {
   "codemirror_mode": {
    "name": "ipython",
    "version": 3
   },
   "file_extension": ".py",
   "mimetype": "text/x-python",
   "name": "python",
   "nbconvert_exporter": "python",
   "pygments_lexer": "ipython3",
   "version": "3.6.5"
  }
 },
 "nbformat": 4,
 "nbformat_minor": 2
}
